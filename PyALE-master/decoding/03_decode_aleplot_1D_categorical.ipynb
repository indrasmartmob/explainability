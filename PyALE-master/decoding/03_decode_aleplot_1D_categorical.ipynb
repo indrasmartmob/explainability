{
 "cells": [
  {
   "cell_type": "markdown",
   "metadata": {},
   "source": [
    "## ALE plots"
   ]
  },
  {
   "cell_type": "code",
   "execution_count": 1,
   "metadata": {},
   "outputs": [
    {
     "data": {
      "text/plain": [
       "['c:\\\\D_Drive\\\\Indra\\\\github_projects\\\\explainability\\\\PyALE-master\\\\decoding',\n",
       " 'c:\\\\Users\\\\iammo\\\\anaconda3\\\\envs\\\\demo01\\\\python311.zip',\n",
       " 'c:\\\\Users\\\\iammo\\\\anaconda3\\\\envs\\\\demo01\\\\DLLs',\n",
       " 'c:\\\\Users\\\\iammo\\\\anaconda3\\\\envs\\\\demo01\\\\Lib',\n",
       " 'c:\\\\Users\\\\iammo\\\\anaconda3\\\\envs\\\\demo01',\n",
       " '',\n",
       " 'c:\\\\Users\\\\iammo\\\\anaconda3\\\\envs\\\\demo01\\\\Lib\\\\site-packages',\n",
       " 'c:\\\\Users\\\\iammo\\\\anaconda3\\\\envs\\\\demo01\\\\Lib\\\\site-packages\\\\win32',\n",
       " 'c:\\\\Users\\\\iammo\\\\anaconda3\\\\envs\\\\demo01\\\\Lib\\\\site-packages\\\\win32\\\\lib',\n",
       " 'c:\\\\Users\\\\iammo\\\\anaconda3\\\\envs\\\\demo01\\\\Lib\\\\site-packages\\\\Pythonwin']"
      ]
     },
     "execution_count": 1,
     "metadata": {},
     "output_type": "execute_result"
    }
   ],
   "source": [
    "import sys\n",
    "sys.path"
   ]
  },
  {
   "cell_type": "code",
   "execution_count": 2,
   "metadata": {},
   "outputs": [
    {
     "data": {
      "text/plain": [
       "['C:\\\\D_Drive\\\\Indra\\\\github_projects\\\\explainability\\\\PyALE-master',\n",
       " 'c:\\\\D_Drive\\\\Indra\\\\github_projects\\\\explainability\\\\PyALE-master\\\\decoding',\n",
       " 'c:\\\\Users\\\\iammo\\\\anaconda3\\\\envs\\\\demo01\\\\python311.zip',\n",
       " 'c:\\\\Users\\\\iammo\\\\anaconda3\\\\envs\\\\demo01\\\\DLLs',\n",
       " 'c:\\\\Users\\\\iammo\\\\anaconda3\\\\envs\\\\demo01\\\\Lib',\n",
       " 'c:\\\\Users\\\\iammo\\\\anaconda3\\\\envs\\\\demo01',\n",
       " '',\n",
       " 'c:\\\\Users\\\\iammo\\\\anaconda3\\\\envs\\\\demo01\\\\Lib\\\\site-packages',\n",
       " 'c:\\\\Users\\\\iammo\\\\anaconda3\\\\envs\\\\demo01\\\\Lib\\\\site-packages\\\\win32',\n",
       " 'c:\\\\Users\\\\iammo\\\\anaconda3\\\\envs\\\\demo01\\\\Lib\\\\site-packages\\\\win32\\\\lib',\n",
       " 'c:\\\\Users\\\\iammo\\\\anaconda3\\\\envs\\\\demo01\\\\Lib\\\\site-packages\\\\Pythonwin']"
      ]
     },
     "execution_count": 2,
     "metadata": {},
     "output_type": "execute_result"
    }
   ],
   "source": [
    "alepath=\"C:\\D_Drive\\Indra\\github_projects\\explainability\\PyALE-master\"\n",
    "sys.path.insert(0,alepath)\n",
    "sys.path"
   ]
  },
  {
   "cell_type": "code",
   "execution_count": 3,
   "metadata": {},
   "outputs": [],
   "source": [
    "from PyALE import ale, ALE_1D_IS, ALE_1D, ALE_2D, lib"
   ]
  },
  {
   "cell_type": "code",
   "execution_count": 4,
   "metadata": {},
   "outputs": [
    {
     "name": "stderr",
     "output_type": "stream",
     "text": [
      "\u001b[32m2024-05-01 22:40:04.041\u001b[0m | \u001b[1mINFO    \u001b[0m | \u001b[36mPyALE._src.ALE_1D_IS\u001b[0m:\u001b[36mfn_check\u001b[0m:\u001b[36m18\u001b[0m - \u001b[1mIn the fn_check method\u001b[0m\n",
      "\u001b[32m2024-05-01 22:40:04.043\u001b[0m | \u001b[34m\u001b[1mDEBUG   \u001b[0m | \u001b[36mPyALE._src.ALE_1D_IS\u001b[0m:\u001b[36mfn_check\u001b[0m:\u001b[36m20\u001b[0m - \u001b[34m\u001b[1mA debug message.\u001b[0m\n",
      "\u001b[32m2024-05-01 22:40:04.043\u001b[0m | \u001b[1mINFO    \u001b[0m | \u001b[36mPyALE._src.ALE_1D_IS\u001b[0m:\u001b[36mfn_check\u001b[0m:\u001b[36m21\u001b[0m - \u001b[1mAn info message.\u001b[0m\n",
      "\u001b[32m2024-05-01 22:40:04.044\u001b[0m | \u001b[32m\u001b[1mSUCCESS \u001b[0m | \u001b[36mPyALE._src.ALE_1D_IS\u001b[0m:\u001b[36mfn_check\u001b[0m:\u001b[36m22\u001b[0m - \u001b[32m\u001b[1mA success message.\u001b[0m\n",
      "\u001b[32m2024-05-01 22:40:04.044\u001b[0m | \u001b[33m\u001b[1mWARNING \u001b[0m | \u001b[36mPyALE._src.ALE_1D_IS\u001b[0m:\u001b[36mfn_check\u001b[0m:\u001b[36m23\u001b[0m - \u001b[33m\u001b[1mA warning message.\u001b[0m\n",
      "\u001b[32m2024-05-01 22:40:04.047\u001b[0m | \u001b[31m\u001b[1mERROR   \u001b[0m | \u001b[36mPyALE._src.ALE_1D_IS\u001b[0m:\u001b[36mfn_check\u001b[0m:\u001b[36m24\u001b[0m - \u001b[31m\u001b[1mAn error message.\u001b[0m\n",
      "\u001b[32m2024-05-01 22:40:04.047\u001b[0m | \u001b[41m\u001b[1mCRITICAL\u001b[0m | \u001b[36mPyALE._src.ALE_1D_IS\u001b[0m:\u001b[36mfn_check\u001b[0m:\u001b[36m25\u001b[0m - \u001b[41m\u001b[1mA critical message.\u001b[0m\n"
     ]
    }
   ],
   "source": [
    "ALE_1D_IS.fn_check()"
   ]
  },
  {
   "cell_type": "markdown",
   "metadata": {},
   "source": [
    "# PyALE: Usage examples"
   ]
  },
  {
   "cell_type": "code",
   "execution_count": 5,
   "metadata": {},
   "outputs": [],
   "source": [
    "import pandas as pd\n",
    "pd.set_option(\"display.max_columns\",None)\n",
    "pd.set_option(\"display.max_colwidth\",None)\n",
    "import random\n",
    "import matplotlib.pyplot as plt\n",
    "from sklearn.ensemble import RandomForestRegressor\n",
    "from sklearn.preprocessing import OneHotEncoder"
   ]
  },
  {
   "cell_type": "markdown",
   "metadata": {},
   "source": [
    "## Prepare Data"
   ]
  },
  {
   "cell_type": "code",
   "execution_count": 6,
   "metadata": {},
   "outputs": [
    {
     "data": {
      "text/html": [
       "<div>\n",
       "<style scoped>\n",
       "    .dataframe tbody tr th:only-of-type {\n",
       "        vertical-align: middle;\n",
       "    }\n",
       "\n",
       "    .dataframe tbody tr th {\n",
       "        vertical-align: top;\n",
       "    }\n",
       "\n",
       "    .dataframe thead th {\n",
       "        text-align: right;\n",
       "    }\n",
       "</style>\n",
       "<table border=\"1\" class=\"dataframe\">\n",
       "  <thead>\n",
       "    <tr style=\"text-align: right;\">\n",
       "      <th></th>\n",
       "      <th>carat</th>\n",
       "      <th>cut</th>\n",
       "      <th>color</th>\n",
       "      <th>clarity</th>\n",
       "      <th>depth</th>\n",
       "      <th>table</th>\n",
       "      <th>price</th>\n",
       "      <th>x</th>\n",
       "      <th>y</th>\n",
       "      <th>z</th>\n",
       "    </tr>\n",
       "  </thead>\n",
       "  <tbody>\n",
       "    <tr>\n",
       "      <th>0</th>\n",
       "      <td>0.23</td>\n",
       "      <td>Ideal</td>\n",
       "      <td>E</td>\n",
       "      <td>SI2</td>\n",
       "      <td>61.5</td>\n",
       "      <td>55.0</td>\n",
       "      <td>326</td>\n",
       "      <td>3.95</td>\n",
       "      <td>3.98</td>\n",
       "      <td>2.43</td>\n",
       "    </tr>\n",
       "    <tr>\n",
       "      <th>1</th>\n",
       "      <td>0.21</td>\n",
       "      <td>Premium</td>\n",
       "      <td>E</td>\n",
       "      <td>SI1</td>\n",
       "      <td>59.8</td>\n",
       "      <td>61.0</td>\n",
       "      <td>326</td>\n",
       "      <td>3.89</td>\n",
       "      <td>3.84</td>\n",
       "      <td>2.31</td>\n",
       "    </tr>\n",
       "    <tr>\n",
       "      <th>2</th>\n",
       "      <td>0.23</td>\n",
       "      <td>Good</td>\n",
       "      <td>E</td>\n",
       "      <td>VS1</td>\n",
       "      <td>56.9</td>\n",
       "      <td>65.0</td>\n",
       "      <td>327</td>\n",
       "      <td>4.05</td>\n",
       "      <td>4.07</td>\n",
       "      <td>2.31</td>\n",
       "    </tr>\n",
       "    <tr>\n",
       "      <th>3</th>\n",
       "      <td>0.29</td>\n",
       "      <td>Premium</td>\n",
       "      <td>I</td>\n",
       "      <td>VS2</td>\n",
       "      <td>62.4</td>\n",
       "      <td>58.0</td>\n",
       "      <td>334</td>\n",
       "      <td>4.20</td>\n",
       "      <td>4.23</td>\n",
       "      <td>2.63</td>\n",
       "    </tr>\n",
       "    <tr>\n",
       "      <th>4</th>\n",
       "      <td>0.31</td>\n",
       "      <td>Good</td>\n",
       "      <td>J</td>\n",
       "      <td>SI2</td>\n",
       "      <td>63.3</td>\n",
       "      <td>58.0</td>\n",
       "      <td>335</td>\n",
       "      <td>4.34</td>\n",
       "      <td>4.35</td>\n",
       "      <td>2.75</td>\n",
       "    </tr>\n",
       "  </tbody>\n",
       "</table>\n",
       "</div>"
      ],
      "text/plain": [
       "   carat      cut color clarity  depth  table  price     x     y     z\n",
       "0   0.23    Ideal     E     SI2   61.5   55.0    326  3.95  3.98  2.43\n",
       "1   0.21  Premium     E     SI1   59.8   61.0    326  3.89  3.84  2.31\n",
       "2   0.23     Good     E     VS1   56.9   65.0    327  4.05  4.07  2.31\n",
       "3   0.29  Premium     I     VS2   62.4   58.0    334  4.20  4.23  2.63\n",
       "4   0.31     Good     J     SI2   63.3   58.0    335  4.34  4.35  2.75"
      ]
     },
     "execution_count": 6,
     "metadata": {},
     "output_type": "execute_result"
    }
   ],
   "source": [
    "# get the raw diamond data (from R's ggplot2)\n",
    "# dat_diamonds = pd.read_csv(\n",
    "#     \"https://raw.githubusercontent.com/tidyverse/ggplot2/master/data-raw/diamonds.csv\"\n",
    "# )\n",
    "dat_diamonds = pd.read_csv(\".\\Input_Data\\diamonds.csv\")\n",
    "dat_diamonds.head()"
   ]
  },
  {
   "cell_type": "code",
   "execution_count": 7,
   "metadata": {},
   "outputs": [],
   "source": [
    "X_raw = dat_diamonds.loc[:, ~dat_diamonds.columns.str.contains(\"price\")].copy()\n",
    "y = dat_diamonds[\"price\"].copy()"
   ]
  },
  {
   "cell_type": "code",
   "execution_count": 8,
   "metadata": {},
   "outputs": [],
   "source": [
    "X = X_raw.copy()\n",
    "# convert the three text columns to ordered categoricals\n",
    "X[\"cut\"] = X[\"cut\"].astype(\n",
    "    pd.api.types.CategoricalDtype(\n",
    "        categories=[\"Fair\", \"Good\", \"Very Good\", \"Premium\", \"Ideal\"], ordered=True\n",
    "    )\n",
    ")\n",
    "X[\"clarity\"] = X[\"clarity\"].astype(\n",
    "    pd.api.types.CategoricalDtype(\n",
    "        categories=[\"I1\", \"SI2\", \"SI1\", \"VS2\", \"VS1\", \"VVS2\", \"VVS1\", \"IF\"],\n",
    "        ordered=True,\n",
    "    )\n",
    ")"
   ]
  },
  {
   "cell_type": "code",
   "execution_count": 9,
   "metadata": {},
   "outputs": [],
   "source": [
    "# use the codes of each categorical as a numeric encoding for the feature\n",
    "X[\"cut_code\"] = X[\"cut\"].cat.codes\n",
    "X[\"clarity_code\"] = X[\"clarity\"].cat.codes"
   ]
  },
  {
   "cell_type": "code",
   "execution_count": 10,
   "metadata": {},
   "outputs": [],
   "source": [
    "# fit a one-hot-encoder before the function\n",
    "# it is important to use a one-hot-encoder, that is fitted with all possible\n",
    "# categories in the feature.\n",
    "one_hot_encoder = OneHotEncoder().fit(X[[\"color\"]])\n",
    "\n",
    "def onehot_encode(feat, ohe=one_hot_encoder):\n",
    "    col_names = ohe.categories_[0]\n",
    "    feat_coded = pd.DataFrame(ohe.transform(feat).toarray())\n",
    "    feat_coded.columns = col_names\n",
    "    return feat_coded"
   ]
  },
  {
   "cell_type": "code",
   "execution_count": 11,
   "metadata": {},
   "outputs": [],
   "source": [
    "coded_feature = onehot_encode(X[[\"color\"]])\n",
    "X = pd.concat([X, coded_feature], axis=1)"
   ]
  },
  {
   "cell_type": "code",
   "execution_count": 12,
   "metadata": {},
   "outputs": [
    {
     "data": {
      "text/html": [
       "<div>\n",
       "<style scoped>\n",
       "    .dataframe tbody tr th:only-of-type {\n",
       "        vertical-align: middle;\n",
       "    }\n",
       "\n",
       "    .dataframe tbody tr th {\n",
       "        vertical-align: top;\n",
       "    }\n",
       "\n",
       "    .dataframe thead th {\n",
       "        text-align: right;\n",
       "    }\n",
       "</style>\n",
       "<table border=\"1\" class=\"dataframe\">\n",
       "  <thead>\n",
       "    <tr style=\"text-align: right;\">\n",
       "      <th></th>\n",
       "      <th>carat</th>\n",
       "      <th>cut</th>\n",
       "      <th>color</th>\n",
       "      <th>clarity</th>\n",
       "      <th>depth</th>\n",
       "      <th>table</th>\n",
       "      <th>x</th>\n",
       "      <th>y</th>\n",
       "      <th>z</th>\n",
       "      <th>cut_code</th>\n",
       "      <th>clarity_code</th>\n",
       "      <th>D</th>\n",
       "      <th>E</th>\n",
       "      <th>F</th>\n",
       "      <th>G</th>\n",
       "      <th>H</th>\n",
       "      <th>I</th>\n",
       "      <th>J</th>\n",
       "    </tr>\n",
       "  </thead>\n",
       "  <tbody>\n",
       "    <tr>\n",
       "      <th>0</th>\n",
       "      <td>0.23</td>\n",
       "      <td>Ideal</td>\n",
       "      <td>E</td>\n",
       "      <td>SI2</td>\n",
       "      <td>61.5</td>\n",
       "      <td>55.0</td>\n",
       "      <td>3.95</td>\n",
       "      <td>3.98</td>\n",
       "      <td>2.43</td>\n",
       "      <td>4</td>\n",
       "      <td>1</td>\n",
       "      <td>0.0</td>\n",
       "      <td>1.0</td>\n",
       "      <td>0.0</td>\n",
       "      <td>0.0</td>\n",
       "      <td>0.0</td>\n",
       "      <td>0.0</td>\n",
       "      <td>0.0</td>\n",
       "    </tr>\n",
       "    <tr>\n",
       "      <th>1</th>\n",
       "      <td>0.21</td>\n",
       "      <td>Premium</td>\n",
       "      <td>E</td>\n",
       "      <td>SI1</td>\n",
       "      <td>59.8</td>\n",
       "      <td>61.0</td>\n",
       "      <td>3.89</td>\n",
       "      <td>3.84</td>\n",
       "      <td>2.31</td>\n",
       "      <td>3</td>\n",
       "      <td>2</td>\n",
       "      <td>0.0</td>\n",
       "      <td>1.0</td>\n",
       "      <td>0.0</td>\n",
       "      <td>0.0</td>\n",
       "      <td>0.0</td>\n",
       "      <td>0.0</td>\n",
       "      <td>0.0</td>\n",
       "    </tr>\n",
       "    <tr>\n",
       "      <th>2</th>\n",
       "      <td>0.23</td>\n",
       "      <td>Good</td>\n",
       "      <td>E</td>\n",
       "      <td>VS1</td>\n",
       "      <td>56.9</td>\n",
       "      <td>65.0</td>\n",
       "      <td>4.05</td>\n",
       "      <td>4.07</td>\n",
       "      <td>2.31</td>\n",
       "      <td>1</td>\n",
       "      <td>4</td>\n",
       "      <td>0.0</td>\n",
       "      <td>1.0</td>\n",
       "      <td>0.0</td>\n",
       "      <td>0.0</td>\n",
       "      <td>0.0</td>\n",
       "      <td>0.0</td>\n",
       "      <td>0.0</td>\n",
       "    </tr>\n",
       "    <tr>\n",
       "      <th>3</th>\n",
       "      <td>0.29</td>\n",
       "      <td>Premium</td>\n",
       "      <td>I</td>\n",
       "      <td>VS2</td>\n",
       "      <td>62.4</td>\n",
       "      <td>58.0</td>\n",
       "      <td>4.20</td>\n",
       "      <td>4.23</td>\n",
       "      <td>2.63</td>\n",
       "      <td>3</td>\n",
       "      <td>3</td>\n",
       "      <td>0.0</td>\n",
       "      <td>0.0</td>\n",
       "      <td>0.0</td>\n",
       "      <td>0.0</td>\n",
       "      <td>0.0</td>\n",
       "      <td>1.0</td>\n",
       "      <td>0.0</td>\n",
       "    </tr>\n",
       "    <tr>\n",
       "      <th>4</th>\n",
       "      <td>0.31</td>\n",
       "      <td>Good</td>\n",
       "      <td>J</td>\n",
       "      <td>SI2</td>\n",
       "      <td>63.3</td>\n",
       "      <td>58.0</td>\n",
       "      <td>4.34</td>\n",
       "      <td>4.35</td>\n",
       "      <td>2.75</td>\n",
       "      <td>1</td>\n",
       "      <td>1</td>\n",
       "      <td>0.0</td>\n",
       "      <td>0.0</td>\n",
       "      <td>0.0</td>\n",
       "      <td>0.0</td>\n",
       "      <td>0.0</td>\n",
       "      <td>0.0</td>\n",
       "      <td>1.0</td>\n",
       "    </tr>\n",
       "  </tbody>\n",
       "</table>\n",
       "</div>"
      ],
      "text/plain": [
       "   carat      cut color clarity  depth  table     x     y     z  cut_code  \\\n",
       "0   0.23    Ideal     E     SI2   61.5   55.0  3.95  3.98  2.43         4   \n",
       "1   0.21  Premium     E     SI1   59.8   61.0  3.89  3.84  2.31         3   \n",
       "2   0.23     Good     E     VS1   56.9   65.0  4.05  4.07  2.31         1   \n",
       "3   0.29  Premium     I     VS2   62.4   58.0  4.20  4.23  2.63         3   \n",
       "4   0.31     Good     J     SI2   63.3   58.0  4.34  4.35  2.75         1   \n",
       "\n",
       "   clarity_code    D    E    F    G    H    I    J  \n",
       "0             1  0.0  1.0  0.0  0.0  0.0  0.0  0.0  \n",
       "1             2  0.0  1.0  0.0  0.0  0.0  0.0  0.0  \n",
       "2             4  0.0  1.0  0.0  0.0  0.0  0.0  0.0  \n",
       "3             3  0.0  0.0  0.0  0.0  0.0  1.0  0.0  \n",
       "4             1  0.0  0.0  0.0  0.0  0.0  0.0  1.0  "
      ]
     },
     "execution_count": 12,
     "metadata": {},
     "output_type": "execute_result"
    }
   ],
   "source": [
    "X.head()"
   ]
  },
  {
   "cell_type": "code",
   "execution_count": 13,
   "metadata": {},
   "outputs": [],
   "source": [
    "features = [\"carat\", \"cut_code\", \"clarity_code\", \"depth\", \"table\", \"x\", \"y\", \"z\"]\n",
    "features = features + coded_feature.columns.to_list()"
   ]
  },
  {
   "cell_type": "code",
   "execution_count": 14,
   "metadata": {},
   "outputs": [
    {
     "data": {
      "text/html": [
       "<div>\n",
       "<style scoped>\n",
       "    .dataframe tbody tr th:only-of-type {\n",
       "        vertical-align: middle;\n",
       "    }\n",
       "\n",
       "    .dataframe tbody tr th {\n",
       "        vertical-align: top;\n",
       "    }\n",
       "\n",
       "    .dataframe thead th {\n",
       "        text-align: right;\n",
       "    }\n",
       "</style>\n",
       "<table border=\"1\" class=\"dataframe\">\n",
       "  <thead>\n",
       "    <tr style=\"text-align: right;\">\n",
       "      <th></th>\n",
       "      <th>carat</th>\n",
       "      <th>cut_code</th>\n",
       "      <th>clarity_code</th>\n",
       "      <th>depth</th>\n",
       "      <th>table</th>\n",
       "      <th>x</th>\n",
       "      <th>y</th>\n",
       "      <th>z</th>\n",
       "      <th>D</th>\n",
       "      <th>E</th>\n",
       "      <th>F</th>\n",
       "      <th>G</th>\n",
       "      <th>H</th>\n",
       "      <th>I</th>\n",
       "      <th>J</th>\n",
       "    </tr>\n",
       "  </thead>\n",
       "  <tbody>\n",
       "    <tr>\n",
       "      <th>0</th>\n",
       "      <td>0.23</td>\n",
       "      <td>4</td>\n",
       "      <td>1</td>\n",
       "      <td>61.5</td>\n",
       "      <td>55.0</td>\n",
       "      <td>3.95</td>\n",
       "      <td>3.98</td>\n",
       "      <td>2.43</td>\n",
       "      <td>0.0</td>\n",
       "      <td>1.0</td>\n",
       "      <td>0.0</td>\n",
       "      <td>0.0</td>\n",
       "      <td>0.0</td>\n",
       "      <td>0.0</td>\n",
       "      <td>0.0</td>\n",
       "    </tr>\n",
       "    <tr>\n",
       "      <th>1</th>\n",
       "      <td>0.21</td>\n",
       "      <td>3</td>\n",
       "      <td>2</td>\n",
       "      <td>59.8</td>\n",
       "      <td>61.0</td>\n",
       "      <td>3.89</td>\n",
       "      <td>3.84</td>\n",
       "      <td>2.31</td>\n",
       "      <td>0.0</td>\n",
       "      <td>1.0</td>\n",
       "      <td>0.0</td>\n",
       "      <td>0.0</td>\n",
       "      <td>0.0</td>\n",
       "      <td>0.0</td>\n",
       "      <td>0.0</td>\n",
       "    </tr>\n",
       "    <tr>\n",
       "      <th>2</th>\n",
       "      <td>0.23</td>\n",
       "      <td>1</td>\n",
       "      <td>4</td>\n",
       "      <td>56.9</td>\n",
       "      <td>65.0</td>\n",
       "      <td>4.05</td>\n",
       "      <td>4.07</td>\n",
       "      <td>2.31</td>\n",
       "      <td>0.0</td>\n",
       "      <td>1.0</td>\n",
       "      <td>0.0</td>\n",
       "      <td>0.0</td>\n",
       "      <td>0.0</td>\n",
       "      <td>0.0</td>\n",
       "      <td>0.0</td>\n",
       "    </tr>\n",
       "    <tr>\n",
       "      <th>3</th>\n",
       "      <td>0.29</td>\n",
       "      <td>3</td>\n",
       "      <td>3</td>\n",
       "      <td>62.4</td>\n",
       "      <td>58.0</td>\n",
       "      <td>4.20</td>\n",
       "      <td>4.23</td>\n",
       "      <td>2.63</td>\n",
       "      <td>0.0</td>\n",
       "      <td>0.0</td>\n",
       "      <td>0.0</td>\n",
       "      <td>0.0</td>\n",
       "      <td>0.0</td>\n",
       "      <td>1.0</td>\n",
       "      <td>0.0</td>\n",
       "    </tr>\n",
       "    <tr>\n",
       "      <th>4</th>\n",
       "      <td>0.31</td>\n",
       "      <td>1</td>\n",
       "      <td>1</td>\n",
       "      <td>63.3</td>\n",
       "      <td>58.0</td>\n",
       "      <td>4.34</td>\n",
       "      <td>4.35</td>\n",
       "      <td>2.75</td>\n",
       "      <td>0.0</td>\n",
       "      <td>0.0</td>\n",
       "      <td>0.0</td>\n",
       "      <td>0.0</td>\n",
       "      <td>0.0</td>\n",
       "      <td>0.0</td>\n",
       "      <td>1.0</td>\n",
       "    </tr>\n",
       "  </tbody>\n",
       "</table>\n",
       "</div>"
      ],
      "text/plain": [
       "   carat  cut_code  clarity_code  depth  table     x     y     z    D    E  \\\n",
       "0   0.23         4             1   61.5   55.0  3.95  3.98  2.43  0.0  1.0   \n",
       "1   0.21         3             2   59.8   61.0  3.89  3.84  2.31  0.0  1.0   \n",
       "2   0.23         1             4   56.9   65.0  4.05  4.07  2.31  0.0  1.0   \n",
       "3   0.29         3             3   62.4   58.0  4.20  4.23  2.63  0.0  0.0   \n",
       "4   0.31         1             1   63.3   58.0  4.34  4.35  2.75  0.0  0.0   \n",
       "\n",
       "     F    G    H    I    J  \n",
       "0  0.0  0.0  0.0  0.0  0.0  \n",
       "1  0.0  0.0  0.0  0.0  0.0  \n",
       "2  0.0  0.0  0.0  0.0  0.0  \n",
       "3  0.0  0.0  0.0  1.0  0.0  \n",
       "4  0.0  0.0  0.0  0.0  1.0  "
      ]
     },
     "execution_count": 14,
     "metadata": {},
     "output_type": "execute_result"
    }
   ],
   "source": [
    "X[features].head()"
   ]
  },
  {
   "cell_type": "markdown",
   "metadata": {},
   "source": [
    "## Fit the model"
   ]
  },
  {
   "cell_type": "code",
   "execution_count": 15,
   "metadata": {},
   "outputs": [
    {
     "data": {
      "text/html": [
       "<style>#sk-container-id-1 {color: black;}#sk-container-id-1 pre{padding: 0;}#sk-container-id-1 div.sk-toggleable {background-color: white;}#sk-container-id-1 label.sk-toggleable__label {cursor: pointer;display: block;width: 100%;margin-bottom: 0;padding: 0.3em;box-sizing: border-box;text-align: center;}#sk-container-id-1 label.sk-toggleable__label-arrow:before {content: \"▸\";float: left;margin-right: 0.25em;color: #696969;}#sk-container-id-1 label.sk-toggleable__label-arrow:hover:before {color: black;}#sk-container-id-1 div.sk-estimator:hover label.sk-toggleable__label-arrow:before {color: black;}#sk-container-id-1 div.sk-toggleable__content {max-height: 0;max-width: 0;overflow: hidden;text-align: left;background-color: #f0f8ff;}#sk-container-id-1 div.sk-toggleable__content pre {margin: 0.2em;color: black;border-radius: 0.25em;background-color: #f0f8ff;}#sk-container-id-1 input.sk-toggleable__control:checked~div.sk-toggleable__content {max-height: 200px;max-width: 100%;overflow: auto;}#sk-container-id-1 input.sk-toggleable__control:checked~label.sk-toggleable__label-arrow:before {content: \"▾\";}#sk-container-id-1 div.sk-estimator input.sk-toggleable__control:checked~label.sk-toggleable__label {background-color: #d4ebff;}#sk-container-id-1 div.sk-label input.sk-toggleable__control:checked~label.sk-toggleable__label {background-color: #d4ebff;}#sk-container-id-1 input.sk-hidden--visually {border: 0;clip: rect(1px 1px 1px 1px);clip: rect(1px, 1px, 1px, 1px);height: 1px;margin: -1px;overflow: hidden;padding: 0;position: absolute;width: 1px;}#sk-container-id-1 div.sk-estimator {font-family: monospace;background-color: #f0f8ff;border: 1px dotted black;border-radius: 0.25em;box-sizing: border-box;margin-bottom: 0.5em;}#sk-container-id-1 div.sk-estimator:hover {background-color: #d4ebff;}#sk-container-id-1 div.sk-parallel-item::after {content: \"\";width: 100%;border-bottom: 1px solid gray;flex-grow: 1;}#sk-container-id-1 div.sk-label:hover label.sk-toggleable__label {background-color: #d4ebff;}#sk-container-id-1 div.sk-serial::before {content: \"\";position: absolute;border-left: 1px solid gray;box-sizing: border-box;top: 0;bottom: 0;left: 50%;z-index: 0;}#sk-container-id-1 div.sk-serial {display: flex;flex-direction: column;align-items: center;background-color: white;padding-right: 0.2em;padding-left: 0.2em;position: relative;}#sk-container-id-1 div.sk-item {position: relative;z-index: 1;}#sk-container-id-1 div.sk-parallel {display: flex;align-items: stretch;justify-content: center;background-color: white;position: relative;}#sk-container-id-1 div.sk-item::before, #sk-container-id-1 div.sk-parallel-item::before {content: \"\";position: absolute;border-left: 1px solid gray;box-sizing: border-box;top: 0;bottom: 0;left: 50%;z-index: -1;}#sk-container-id-1 div.sk-parallel-item {display: flex;flex-direction: column;z-index: 1;position: relative;background-color: white;}#sk-container-id-1 div.sk-parallel-item:first-child::after {align-self: flex-end;width: 50%;}#sk-container-id-1 div.sk-parallel-item:last-child::after {align-self: flex-start;width: 50%;}#sk-container-id-1 div.sk-parallel-item:only-child::after {width: 0;}#sk-container-id-1 div.sk-dashed-wrapped {border: 1px dashed gray;margin: 0 0.4em 0.5em 0.4em;box-sizing: border-box;padding-bottom: 0.4em;background-color: white;}#sk-container-id-1 div.sk-label label {font-family: monospace;font-weight: bold;display: inline-block;line-height: 1.2em;}#sk-container-id-1 div.sk-label-container {text-align: center;}#sk-container-id-1 div.sk-container {/* jupyter's `normalize.less` sets `[hidden] { display: none; }` but bootstrap.min.css set `[hidden] { display: none !important; }` so we also need the `!important` here to be able to override the default hidden behavior on the sphinx rendered scikit-learn.org. See: https://github.com/scikit-learn/scikit-learn/issues/21755 */display: inline-block !important;position: relative;}#sk-container-id-1 div.sk-text-repr-fallback {display: none;}</style><div id=\"sk-container-id-1\" class=\"sk-top-container\"><div class=\"sk-text-repr-fallback\"><pre>RandomForestRegressor(random_state=1345)</pre><b>In a Jupyter environment, please rerun this cell to show the HTML representation or trust the notebook. <br />On GitHub, the HTML representation is unable to render, please try loading this page with nbviewer.org.</b></div><div class=\"sk-container\" hidden><div class=\"sk-item\"><div class=\"sk-estimator sk-toggleable\"><input class=\"sk-toggleable__control sk-hidden--visually\" id=\"sk-estimator-id-1\" type=\"checkbox\" checked><label for=\"sk-estimator-id-1\" class=\"sk-toggleable__label sk-toggleable__label-arrow\">RandomForestRegressor</label><div class=\"sk-toggleable__content\"><pre>RandomForestRegressor(random_state=1345)</pre></div></div></div></div></div>"
      ],
      "text/plain": [
       "RandomForestRegressor(random_state=1345)"
      ]
     },
     "execution_count": 15,
     "metadata": {},
     "output_type": "execute_result"
    }
   ],
   "source": [
    "model = RandomForestRegressor(random_state=1345)\n",
    "model.fit(X[features], y)"
   ]
  },
  {
   "cell_type": "code",
   "execution_count": 16,
   "metadata": {},
   "outputs": [
    {
     "data": {
      "text/plain": [
       "color\n",
       "G    11292\n",
       "E     9797\n",
       "F     9542\n",
       "H     8304\n",
       "D     6775\n",
       "I     5422\n",
       "J     2808\n",
       "Name: count, dtype: int64"
      ]
     },
     "execution_count": 16,
     "metadata": {},
     "output_type": "execute_result"
    }
   ],
   "source": [
    "X[\"color\"].value_counts()"
   ]
  },
  {
   "cell_type": "code",
   "execution_count": 17,
   "metadata": {},
   "outputs": [
    {
     "data": {
      "text/plain": [
       "cut\n",
       "Ideal        21551\n",
       "Premium      13791\n",
       "Very Good    12082\n",
       "Good          4906\n",
       "Fair          1610\n",
       "Name: count, dtype: int64"
      ]
     },
     "execution_count": 17,
     "metadata": {},
     "output_type": "execute_result"
    }
   ],
   "source": [
    "X[\"cut\"].value_counts()"
   ]
  },
  {
   "cell_type": "code",
   "execution_count": 18,
   "metadata": {},
   "outputs": [
    {
     "data": {
      "text/plain": [
       "cut_code\n",
       "4    21551\n",
       "3    13791\n",
       "2    12082\n",
       "1     4906\n",
       "0     1610\n",
       "Name: count, dtype: int64"
      ]
     },
     "execution_count": 18,
     "metadata": {},
     "output_type": "execute_result"
    }
   ],
   "source": [
    "X[\"cut_code\"].value_counts()"
   ]
  },
  {
   "cell_type": "markdown",
   "metadata": {},
   "source": [
    "### categorical feature"
   ]
  },
  {
   "cell_type": "code",
   "execution_count": 19,
   "metadata": {},
   "outputs": [],
   "source": [
    "# prepare dataset to include the raw feature\n",
    "# since X already has the raw feature it is enough to drop its encoding columns \n",
    "X_feat_raw = X.drop(coded_feature.columns.to_list(), axis=1, inplace=False).copy()"
   ]
  },
  {
   "cell_type": "code",
   "execution_count": 20,
   "metadata": {},
   "outputs": [
    {
     "data": {
      "image/png": "[encoded data removed]",
      "text/plain": [
       "<Figure size 800x400 with 2 Axes>"
      ]
     },
     "metadata": {},
     "output_type": "display_data"
    }
   ],
   "source": [
    "## 1D - categorical\n",
    "ale_eff = ale(\n",
    "    X=X_feat_raw,\n",
    "    model=model,\n",
    "    feature=[\"color\"],\n",
    "    encode_fun=onehot_encode,\n",
    "    predictors=features,\n",
    ")"
   ]
  },
  {
   "cell_type": "markdown",
   "metadata": {},
   "source": [
    "### another categorical feature with a custom encoding fucntion"
   ]
  },
  {
   "cell_type": "code",
   "execution_count": 21,
   "metadata": {},
   "outputs": [],
   "source": [
    "def numeric_encode(col_df):\n",
    "    feat_name = col_df.columns[0]\n",
    "    encoding = X[[feat_name, feat_name + '_code']].drop_duplicates()\n",
    "    encode_dict = {v[feat_name]:v[feat_name + '_code'] for i, v in encoding.iterrows()}\n",
    "    ret_df = pd.DataFrame({feat_name + '_code': [encode_dict.get(k) for k in col_df.values.ravel()]})\n",
    "    return ret_df"
   ]
  },
  {
   "cell_type": "code",
   "execution_count": 22,
   "metadata": {},
   "outputs": [
    {
     "data": {
      "image/png": "[encoded data removed]",
      "text/plain": [
       "<Figure size 800x400 with 2 Axes>"
      ]
     },
     "metadata": {},
     "output_type": "display_data"
    }
   ],
   "source": [
    "# just like the previous example we need to work with the raw feature and not the encoding\n",
    "# since X already has the raw feature it is enough to drop its encoding columns \n",
    "X_feat_raw = X.drop('cut_code', axis=1, inplace=False).copy()\n",
    "eff_df = ale(X=X_feat_raw, \n",
    "             model=model,\n",
    "             feature=['cut'],\n",
    "             encode_fun=numeric_encode, \n",
    "             predictors=features,\n",
    "             include_CI=True, \n",
    "             C=0.9)"
   ]
  },
  {
   "cell_type": "code",
   "execution_count": 23,
   "metadata": {},
   "outputs": [
    {
     "name": "stderr",
     "output_type": "stream",
     "text": [
      "\u001b[32m2024-05-01 22:40:54.205\u001b[0m | \u001b[1mINFO    \u001b[0m | \u001b[36mPyALE._src.ALE_1D_IS\u001b[0m:\u001b[36maleplot_1D_categorical2\u001b[0m:\u001b[36m534\u001b[0m - \u001b[1mStarting of aleplot_1D_categorical2\u001b[0m\n",
      "\u001b[32m2024-05-01 22:40:54.206\u001b[0m | \u001b[33m\u001b[1mWARNING \u001b[0m | \u001b[36mPyALE._src.ALE_1D_IS\u001b[0m:\u001b[36maleplot_1D_categorical2\u001b[0m:\u001b[36m535\u001b[0m - \u001b[33m\u001b[1mStart: Data types check of the function\u001b[0m\n",
      "\u001b[32m2024-05-01 22:40:54.208\u001b[0m | \u001b[33m\u001b[1mWARNING \u001b[0m | \u001b[36mPyALE._src.ALE_1D_IS\u001b[0m:\u001b[36maleplot_1D_categorical2\u001b[0m:\u001b[36m542\u001b[0m - \u001b[33m\u001b[1mEnd: Data types check of the function\u001b[0m\n",
      "\u001b[32m2024-05-01 22:40:54.208\u001b[0m | \u001b[34m\u001b[1mDEBUG   \u001b[0m | \u001b[36mPyALE._src.ALE_1D_IS\u001b[0m:\u001b[36maleplot_1D_categorical2\u001b[0m:\u001b[36m547\u001b[0m - \u001b[34m\u001b[1mIf condition:if (X[feature].dtype.name != 'category') or (not X[feature].cat.ordered):False\u001b[0m\n",
      "\u001b[32m2024-05-01 22:40:57.146\u001b[0m | \u001b[1mINFO    \u001b[0m | \u001b[36mPyALE._src.lib\u001b[0m:\u001b[36mCI_estimate\u001b[0m:\u001b[36m187\u001b[0m - \u001b[1mStarting of CI_estimate\u001b[0m\n",
      "\u001b[32m2024-05-01 22:40:57.148\u001b[0m | \u001b[34m\u001b[1mDEBUG   \u001b[0m | \u001b[36mPyALE._src.lib\u001b[0m:\u001b[36mCI_estimate\u001b[0m:\u001b[36m188\u001b[0m - \u001b[34m\u001b[1mx_vec shape:(0,)\u001b[0m\n",
      "\u001b[32m2024-05-01 22:40:57.148\u001b[0m | \u001b[34m\u001b[1mDEBUG   \u001b[0m | \u001b[36mPyALE._src.lib\u001b[0m:\u001b[36mCI_estimate\u001b[0m:\u001b[36m189\u001b[0m - \u001b[34m\u001b[1mHere the population variance is not know so t distribution is used for testing.\u001b[0m\n",
      "\u001b[32m2024-05-01 22:40:57.149\u001b[0m | \u001b[34m\u001b[1mDEBUG   \u001b[0m | \u001b[36mPyALE._src.lib\u001b[0m:\u001b[36mCI_estimate\u001b[0m:\u001b[36m193\u001b[0m - \u001b[34m\u001b[1mThe standard deviation will be divided by N-1. That is done by ddof:delta degrees of freedom i.e. ddof=1 means N-ddof i.e. N-1\u001b[0m\n",
      "\u001b[32m2024-05-01 22:40:57.151\u001b[0m | \u001b[34m\u001b[1mDEBUG   \u001b[0m | \u001b[36mPyALE._src.lib\u001b[0m:\u001b[36mCI_estimate\u001b[0m:\u001b[36m195\u001b[0m - \u001b[34m\u001b[1mSample Standard Deviation:nan, Standard Error:nan\u001b[0m\n",
      "\u001b[32m2024-05-01 22:40:57.151\u001b[0m | \u001b[34m\u001b[1mDEBUG   \u001b[0m | \u001b[36mPyALE._src.lib\u001b[0m:\u001b[36mCI_estimate\u001b[0m:\u001b[36m196\u001b[0m - \u001b[34m\u001b[1mThe test statistic is t=(sample_mean-population_mean)/(sample s.d by square root of n) with dof=n-1\u001b[0m\n",
      "\u001b[32m2024-05-01 22:40:57.151\u001b[0m | \u001b[34m\u001b[1mDEBUG   \u001b[0m | \u001b[36mPyALE._src.lib\u001b[0m:\u001b[36mCI_estimate\u001b[0m:\u001b[36m198\u001b[0m - \u001b[34m\u001b[1mTwo tailed test will be considered as t is symmetric. So Level of significance/2=0.975\u001b[0m\n",
      "\u001b[32m2024-05-01 22:40:57.151\u001b[0m | \u001b[34m\u001b[1mDEBUG   \u001b[0m | \u001b[36mPyALE._src.lib\u001b[0m:\u001b[36mCI_estimate\u001b[0m:\u001b[36m199\u001b[0m - \u001b[34m\u001b[1mt=ppf(cumulativeDistributiveFunction,degreesOfFreedom,loc=0,scale=1): Percent Point Function==> Inverse of Cumulative Distribution Function percentiles\u001b[0m\n",
      "\u001b[32m2024-05-01 22:40:57.151\u001b[0m | \u001b[34m\u001b[1mDEBUG   \u001b[0m | \u001b[36mPyALE._src.lib\u001b[0m:\u001b[36mCI_estimate\u001b[0m:\u001b[36m201\u001b[0m - \u001b[34m\u001b[1mFor CDF:0.975, the t-statistic value is nan for -1 degrees of freedom\u001b[0m\n",
      "\u001b[32m2024-05-01 22:40:57.151\u001b[0m | \u001b[34m\u001b[1mDEBUG   \u001b[0m | \u001b[36mPyALE._src.lib\u001b[0m:\u001b[36mCI_estimate\u001b[0m:\u001b[36m203\u001b[0m - \u001b[34m\u001b[1mt_star:nan value should be subtracted and added to get the 95.0% Confidence Interval\u001b[0m\n",
      "\u001b[32m2024-05-01 22:40:57.151\u001b[0m | \u001b[1mINFO    \u001b[0m | \u001b[36mPyALE._src.lib\u001b[0m:\u001b[36mCI_estimate\u001b[0m:\u001b[36m204\u001b[0m - \u001b[1mEnding of CI_estimate\u001b[0m\n",
      "\u001b[32m2024-05-01 22:40:57.151\u001b[0m | \u001b[1mINFO    \u001b[0m | \u001b[36mPyALE._src.lib\u001b[0m:\u001b[36mCI_estimate\u001b[0m:\u001b[36m187\u001b[0m - \u001b[1mStarting of CI_estimate\u001b[0m\n",
      "\u001b[32m2024-05-01 22:40:57.151\u001b[0m | \u001b[34m\u001b[1mDEBUG   \u001b[0m | \u001b[36mPyALE._src.lib\u001b[0m:\u001b[36mCI_estimate\u001b[0m:\u001b[36m188\u001b[0m - \u001b[34m\u001b[1mx_vec shape:(6516,)\u001b[0m\n",
      "\u001b[32m2024-05-01 22:40:57.151\u001b[0m | \u001b[34m\u001b[1mDEBUG   \u001b[0m | \u001b[36mPyALE._src.lib\u001b[0m:\u001b[36mCI_estimate\u001b[0m:\u001b[36m189\u001b[0m - \u001b[34m\u001b[1mHere the population variance is not know so t distribution is used for testing.\u001b[0m\n",
      "\u001b[32m2024-05-01 22:40:57.151\u001b[0m | \u001b[34m\u001b[1mDEBUG   \u001b[0m | \u001b[36mPyALE._src.lib\u001b[0m:\u001b[36mCI_estimate\u001b[0m:\u001b[36m193\u001b[0m - \u001b[34m\u001b[1mThe standard deviation will be divided by N-1. That is done by ddof:delta degrees of freedom i.e. ddof=1 means N-ddof i.e. N-1\u001b[0m\n",
      "\u001b[32m2024-05-01 22:40:57.151\u001b[0m | \u001b[34m\u001b[1mDEBUG   \u001b[0m | \u001b[36mPyALE._src.lib\u001b[0m:\u001b[36mCI_estimate\u001b[0m:\u001b[36m195\u001b[0m - \u001b[34m\u001b[1mSample Standard Deviation:108.30500805425855, Standard Error:1.3417079749330432\u001b[0m\n",
      "\u001b[32m2024-05-01 22:40:57.151\u001b[0m | \u001b[34m\u001b[1mDEBUG   \u001b[0m | \u001b[36mPyALE._src.lib\u001b[0m:\u001b[36mCI_estimate\u001b[0m:\u001b[36m196\u001b[0m - \u001b[34m\u001b[1mThe test statistic is t=(sample_mean-population_mean)/(sample s.d by square root of n) with dof=n-1\u001b[0m\n",
      "\u001b[32m2024-05-01 22:40:57.151\u001b[0m | \u001b[34m\u001b[1mDEBUG   \u001b[0m | \u001b[36mPyALE._src.lib\u001b[0m:\u001b[36mCI_estimate\u001b[0m:\u001b[36m198\u001b[0m - \u001b[34m\u001b[1mTwo tailed test will be considered as t is symmetric. So Level of significance/2=0.975\u001b[0m\n",
      "\u001b[32m2024-05-01 22:40:57.151\u001b[0m | \u001b[34m\u001b[1mDEBUG   \u001b[0m | \u001b[36mPyALE._src.lib\u001b[0m:\u001b[36mCI_estimate\u001b[0m:\u001b[36m199\u001b[0m - \u001b[34m\u001b[1mt=ppf(cumulativeDistributiveFunction,degreesOfFreedom,loc=0,scale=1): Percent Point Function==> Inverse of Cumulative Distribution Function percentiles\u001b[0m\n",
      "\u001b[32m2024-05-01 22:40:57.163\u001b[0m | \u001b[34m\u001b[1mDEBUG   \u001b[0m | \u001b[36mPyALE._src.lib\u001b[0m:\u001b[36mCI_estimate\u001b[0m:\u001b[36m201\u001b[0m - \u001b[34m\u001b[1mFor CDF:0.975, the t-statistic value is 1.9603281755640465 for 6515 degrees of freedom\u001b[0m\n",
      "\u001b[32m2024-05-01 22:40:57.164\u001b[0m | \u001b[34m\u001b[1mDEBUG   \u001b[0m | \u001b[36mPyALE._src.lib\u001b[0m:\u001b[36mCI_estimate\u001b[0m:\u001b[36m203\u001b[0m - \u001b[34m\u001b[1mt_star:2.630187946640224 value should be subtracted and added to get the 95.0% Confidence Interval\u001b[0m\n",
      "\u001b[32m2024-05-01 22:40:57.164\u001b[0m | \u001b[1mINFO    \u001b[0m | \u001b[36mPyALE._src.lib\u001b[0m:\u001b[36mCI_estimate\u001b[0m:\u001b[36m204\u001b[0m - \u001b[1mEnding of CI_estimate\u001b[0m\n",
      "\u001b[32m2024-05-01 22:40:57.164\u001b[0m | \u001b[1mINFO    \u001b[0m | \u001b[36mPyALE._src.lib\u001b[0m:\u001b[36mCI_estimate\u001b[0m:\u001b[36m187\u001b[0m - \u001b[1mStarting of CI_estimate\u001b[0m\n",
      "\u001b[32m2024-05-01 22:40:57.164\u001b[0m | \u001b[34m\u001b[1mDEBUG   \u001b[0m | \u001b[36mPyALE._src.lib\u001b[0m:\u001b[36mCI_estimate\u001b[0m:\u001b[36m188\u001b[0m - \u001b[34m\u001b[1mx_vec shape:(16988,)\u001b[0m\n",
      "\u001b[32m2024-05-01 22:40:57.167\u001b[0m | \u001b[34m\u001b[1mDEBUG   \u001b[0m | \u001b[36mPyALE._src.lib\u001b[0m:\u001b[36mCI_estimate\u001b[0m:\u001b[36m189\u001b[0m - \u001b[34m\u001b[1mHere the population variance is not know so t distribution is used for testing.\u001b[0m\n",
      "\u001b[32m2024-05-01 22:40:57.167\u001b[0m | \u001b[34m\u001b[1mDEBUG   \u001b[0m | \u001b[36mPyALE._src.lib\u001b[0m:\u001b[36mCI_estimate\u001b[0m:\u001b[36m193\u001b[0m - \u001b[34m\u001b[1mThe standard deviation will be divided by N-1. That is done by ddof:delta degrees of freedom i.e. ddof=1 means N-ddof i.e. N-1\u001b[0m\n",
      "\u001b[32m2024-05-01 22:40:57.167\u001b[0m | \u001b[34m\u001b[1mDEBUG   \u001b[0m | \u001b[36mPyALE._src.lib\u001b[0m:\u001b[36mCI_estimate\u001b[0m:\u001b[36m195\u001b[0m - \u001b[34m\u001b[1mSample Standard Deviation:84.4370316580767, Standard Error:0.6478311570937503\u001b[0m\n",
      "\u001b[32m2024-05-01 22:40:57.167\u001b[0m | \u001b[34m\u001b[1mDEBUG   \u001b[0m | \u001b[36mPyALE._src.lib\u001b[0m:\u001b[36mCI_estimate\u001b[0m:\u001b[36m196\u001b[0m - \u001b[34m\u001b[1mThe test statistic is t=(sample_mean-population_mean)/(sample s.d by square root of n) with dof=n-1\u001b[0m\n",
      "\u001b[32m2024-05-01 22:40:57.167\u001b[0m | \u001b[34m\u001b[1mDEBUG   \u001b[0m | \u001b[36mPyALE._src.lib\u001b[0m:\u001b[36mCI_estimate\u001b[0m:\u001b[36m198\u001b[0m - \u001b[34m\u001b[1mTwo tailed test will be considered as t is symmetric. So Level of significance/2=0.975\u001b[0m\n",
      "\u001b[32m2024-05-01 22:40:57.167\u001b[0m | \u001b[34m\u001b[1mDEBUG   \u001b[0m | \u001b[36mPyALE._src.lib\u001b[0m:\u001b[36mCI_estimate\u001b[0m:\u001b[36m199\u001b[0m - \u001b[34m\u001b[1mt=ppf(cumulativeDistributiveFunction,degreesOfFreedom,loc=0,scale=1): Percent Point Function==> Inverse of Cumulative Distribution Function percentiles\u001b[0m\n",
      "\u001b[32m2024-05-01 22:40:57.167\u001b[0m | \u001b[34m\u001b[1mDEBUG   \u001b[0m | \u001b[36mPyALE._src.lib\u001b[0m:\u001b[36mCI_estimate\u001b[0m:\u001b[36m201\u001b[0m - \u001b[34m\u001b[1mFor CDF:0.975, the t-statistic value is 1.9601036464812762 for 16987 degrees of freedom\u001b[0m\n",
      "\u001b[32m2024-05-01 22:40:57.167\u001b[0m | \u001b[34m\u001b[1mDEBUG   \u001b[0m | \u001b[36mPyALE._src.lib\u001b[0m:\u001b[36mCI_estimate\u001b[0m:\u001b[36m203\u001b[0m - \u001b[34m\u001b[1mt_star:1.2698162133236444 value should be subtracted and added to get the 95.0% Confidence Interval\u001b[0m\n",
      "\u001b[32m2024-05-01 22:40:57.167\u001b[0m | \u001b[1mINFO    \u001b[0m | \u001b[36mPyALE._src.lib\u001b[0m:\u001b[36mCI_estimate\u001b[0m:\u001b[36m204\u001b[0m - \u001b[1mEnding of CI_estimate\u001b[0m\n",
      "\u001b[32m2024-05-01 22:40:57.174\u001b[0m | \u001b[1mINFO    \u001b[0m | \u001b[36mPyALE._src.lib\u001b[0m:\u001b[36mCI_estimate\u001b[0m:\u001b[36m187\u001b[0m - \u001b[1mStarting of CI_estimate\u001b[0m\n",
      "\u001b[32m2024-05-01 22:40:57.174\u001b[0m | \u001b[34m\u001b[1mDEBUG   \u001b[0m | \u001b[36mPyALE._src.lib\u001b[0m:\u001b[36mCI_estimate\u001b[0m:\u001b[36m188\u001b[0m - \u001b[34m\u001b[1mx_vec shape:(25873,)\u001b[0m\n",
      "\u001b[32m2024-05-01 22:40:57.174\u001b[0m | \u001b[34m\u001b[1mDEBUG   \u001b[0m | \u001b[36mPyALE._src.lib\u001b[0m:\u001b[36mCI_estimate\u001b[0m:\u001b[36m189\u001b[0m - \u001b[34m\u001b[1mHere the population variance is not know so t distribution is used for testing.\u001b[0m\n",
      "\u001b[32m2024-05-01 22:40:57.174\u001b[0m | \u001b[34m\u001b[1mDEBUG   \u001b[0m | \u001b[36mPyALE._src.lib\u001b[0m:\u001b[36mCI_estimate\u001b[0m:\u001b[36m193\u001b[0m - \u001b[34m\u001b[1mThe standard deviation will be divided by N-1. That is done by ddof:delta degrees of freedom i.e. ddof=1 means N-ddof i.e. N-1\u001b[0m\n",
      "\u001b[32m2024-05-01 22:40:57.174\u001b[0m | \u001b[34m\u001b[1mDEBUG   \u001b[0m | \u001b[36mPyALE._src.lib\u001b[0m:\u001b[36mCI_estimate\u001b[0m:\u001b[36m195\u001b[0m - \u001b[34m\u001b[1mSample Standard Deviation:85.66084454682914, Standard Error:0.5325482447580319\u001b[0m\n",
      "\u001b[32m2024-05-01 22:40:57.174\u001b[0m | \u001b[34m\u001b[1mDEBUG   \u001b[0m | \u001b[36mPyALE._src.lib\u001b[0m:\u001b[36mCI_estimate\u001b[0m:\u001b[36m196\u001b[0m - \u001b[34m\u001b[1mThe test statistic is t=(sample_mean-population_mean)/(sample s.d by square root of n) with dof=n-1\u001b[0m\n",
      "\u001b[32m2024-05-01 22:40:57.174\u001b[0m | \u001b[34m\u001b[1mDEBUG   \u001b[0m | \u001b[36mPyALE._src.lib\u001b[0m:\u001b[36mCI_estimate\u001b[0m:\u001b[36m198\u001b[0m - \u001b[34m\u001b[1mTwo tailed test will be considered as t is symmetric. So Level of significance/2=0.975\u001b[0m\n",
      "\u001b[32m2024-05-01 22:40:57.174\u001b[0m | \u001b[34m\u001b[1mDEBUG   \u001b[0m | \u001b[36mPyALE._src.lib\u001b[0m:\u001b[36mCI_estimate\u001b[0m:\u001b[36m199\u001b[0m - \u001b[34m\u001b[1mt=ppf(cumulativeDistributiveFunction,degreesOfFreedom,loc=0,scale=1): Percent Point Function==> Inverse of Cumulative Distribution Function percentiles\u001b[0m\n",
      "\u001b[32m2024-05-01 22:40:57.174\u001b[0m | \u001b[34m\u001b[1mDEBUG   \u001b[0m | \u001b[36mPyALE._src.lib\u001b[0m:\u001b[36mCI_estimate\u001b[0m:\u001b[36m201\u001b[0m - \u001b[34m\u001b[1mFor CDF:0.975, the t-statistic value is 1.9600556813678538 for 25872 degrees of freedom\u001b[0m\n",
      "\u001b[32m2024-05-01 22:40:57.180\u001b[0m | \u001b[34m\u001b[1mDEBUG   \u001b[0m | \u001b[36mPyALE._src.lib\u001b[0m:\u001b[36mCI_estimate\u001b[0m:\u001b[36m203\u001b[0m - \u001b[34m\u001b[1mt_star:1.0438242127404587 value should be subtracted and added to get the 95.0% Confidence Interval\u001b[0m\n",
      "\u001b[32m2024-05-01 22:40:57.180\u001b[0m | \u001b[1mINFO    \u001b[0m | \u001b[36mPyALE._src.lib\u001b[0m:\u001b[36mCI_estimate\u001b[0m:\u001b[36m204\u001b[0m - \u001b[1mEnding of CI_estimate\u001b[0m\n",
      "\u001b[32m2024-05-01 22:40:57.181\u001b[0m | \u001b[1mINFO    \u001b[0m | \u001b[36mPyALE._src.lib\u001b[0m:\u001b[36mCI_estimate\u001b[0m:\u001b[36m187\u001b[0m - \u001b[1mStarting of CI_estimate\u001b[0m\n",
      "\u001b[32m2024-05-01 22:40:57.181\u001b[0m | \u001b[34m\u001b[1mDEBUG   \u001b[0m | \u001b[36mPyALE._src.lib\u001b[0m:\u001b[36mCI_estimate\u001b[0m:\u001b[36m188\u001b[0m - \u001b[34m\u001b[1mx_vec shape:(35342,)\u001b[0m\n",
      "\u001b[32m2024-05-01 22:40:57.181\u001b[0m | \u001b[34m\u001b[1mDEBUG   \u001b[0m | \u001b[36mPyALE._src.lib\u001b[0m:\u001b[36mCI_estimate\u001b[0m:\u001b[36m189\u001b[0m - \u001b[34m\u001b[1mHere the population variance is not know so t distribution is used for testing.\u001b[0m\n",
      "\u001b[32m2024-05-01 22:40:57.181\u001b[0m | \u001b[34m\u001b[1mDEBUG   \u001b[0m | \u001b[36mPyALE._src.lib\u001b[0m:\u001b[36mCI_estimate\u001b[0m:\u001b[36m193\u001b[0m - \u001b[34m\u001b[1mThe standard deviation will be divided by N-1. That is done by ddof:delta degrees of freedom i.e. ddof=1 means N-ddof i.e. N-1\u001b[0m\n",
      "\u001b[32m2024-05-01 22:40:57.184\u001b[0m | \u001b[34m\u001b[1mDEBUG   \u001b[0m | \u001b[36mPyALE._src.lib\u001b[0m:\u001b[36mCI_estimate\u001b[0m:\u001b[36m195\u001b[0m - \u001b[34m\u001b[1mSample Standard Deviation:208.689306508144, Standard Error:1.1100809110498675\u001b[0m\n",
      "\u001b[32m2024-05-01 22:40:57.184\u001b[0m | \u001b[34m\u001b[1mDEBUG   \u001b[0m | \u001b[36mPyALE._src.lib\u001b[0m:\u001b[36mCI_estimate\u001b[0m:\u001b[36m196\u001b[0m - \u001b[34m\u001b[1mThe test statistic is t=(sample_mean-population_mean)/(sample s.d by square root of n) with dof=n-1\u001b[0m\n",
      "\u001b[32m2024-05-01 22:40:57.184\u001b[0m | \u001b[34m\u001b[1mDEBUG   \u001b[0m | \u001b[36mPyALE._src.lib\u001b[0m:\u001b[36mCI_estimate\u001b[0m:\u001b[36m198\u001b[0m - \u001b[34m\u001b[1mTwo tailed test will be considered as t is symmetric. So Level of significance/2=0.975\u001b[0m\n",
      "\u001b[32m2024-05-01 22:40:57.184\u001b[0m | \u001b[34m\u001b[1mDEBUG   \u001b[0m | \u001b[36mPyALE._src.lib\u001b[0m:\u001b[36mCI_estimate\u001b[0m:\u001b[36m199\u001b[0m - \u001b[34m\u001b[1mt=ppf(cumulativeDistributiveFunction,degreesOfFreedom,loc=0,scale=1): Percent Point Function==> Inverse of Cumulative Distribution Function percentiles\u001b[0m\n",
      "\u001b[32m2024-05-01 22:40:57.184\u001b[0m | \u001b[34m\u001b[1mDEBUG   \u001b[0m | \u001b[36mPyALE._src.lib\u001b[0m:\u001b[36mCI_estimate\u001b[0m:\u001b[36m201\u001b[0m - \u001b[34m\u001b[1mFor CDF:0.975, the t-statistic value is 1.9600311119868452 for 35341 degrees of freedom\u001b[0m\n",
      "\u001b[32m2024-05-01 22:40:57.184\u001b[0m | \u001b[34m\u001b[1mDEBUG   \u001b[0m | \u001b[36mPyALE._src.lib\u001b[0m:\u001b[36mCI_estimate\u001b[0m:\u001b[36m203\u001b[0m - \u001b[34m\u001b[1mt_star:2.175793122480442 value should be subtracted and added to get the 95.0% Confidence Interval\u001b[0m\n",
      "\u001b[32m2024-05-01 22:40:57.184\u001b[0m | \u001b[1mINFO    \u001b[0m | \u001b[36mPyALE._src.lib\u001b[0m:\u001b[36mCI_estimate\u001b[0m:\u001b[36m204\u001b[0m - \u001b[1mEnding of CI_estimate\u001b[0m\n"
     ]
    },
    {
     "data": {
      "text/html": [
       "<div>\n",
       "<style scoped>\n",
       "    .dataframe tbody tr th:only-of-type {\n",
       "        vertical-align: middle;\n",
       "    }\n",
       "\n",
       "    .dataframe tbody tr th {\n",
       "        vertical-align: top;\n",
       "    }\n",
       "\n",
       "    .dataframe thead th {\n",
       "        text-align: right;\n",
       "    }\n",
       "</style>\n",
       "<table border=\"1\" class=\"dataframe\">\n",
       "  <thead>\n",
       "    <tr style=\"text-align: right;\">\n",
       "      <th></th>\n",
       "      <th>eff</th>\n",
       "      <th>size</th>\n",
       "      <th>lowerCI_95%</th>\n",
       "      <th>upperCI_95%</th>\n",
       "    </tr>\n",
       "    <tr>\n",
       "      <th>cut</th>\n",
       "      <th></th>\n",
       "      <th></th>\n",
       "      <th></th>\n",
       "      <th></th>\n",
       "    </tr>\n",
       "  </thead>\n",
       "  <tbody>\n",
       "    <tr>\n",
       "      <th>Fair</th>\n",
       "      <td>-100.172437</td>\n",
       "      <td>1610</td>\n",
       "      <td>NaN</td>\n",
       "      <td>NaN</td>\n",
       "    </tr>\n",
       "    <tr>\n",
       "      <th>Good</th>\n",
       "      <td>-69.551269</td>\n",
       "      <td>4906</td>\n",
       "      <td>-72.181457</td>\n",
       "      <td>-66.921081</td>\n",
       "    </tr>\n",
       "    <tr>\n",
       "      <th>Very Good</th>\n",
       "      <td>-40.464307</td>\n",
       "      <td>12082</td>\n",
       "      <td>-41.734123</td>\n",
       "      <td>-39.194491</td>\n",
       "    </tr>\n",
       "    <tr>\n",
       "      <th>Premium</th>\n",
       "      <td>-30.086004</td>\n",
       "      <td>13791</td>\n",
       "      <td>-31.129829</td>\n",
       "      <td>-29.042180</td>\n",
       "    </tr>\n",
       "    <tr>\n",
       "      <th>Ideal</th>\n",
       "      <td>65.254605</td>\n",
       "      <td>21551</td>\n",
       "      <td>63.078812</td>\n",
       "      <td>67.430398</td>\n",
       "    </tr>\n",
       "  </tbody>\n",
       "</table>\n",
       "</div>"
      ],
      "text/plain": [
       "                  eff   size  lowerCI_95%  upperCI_95%\n",
       "cut                                                   \n",
       "Fair      -100.172437   1610          NaN          NaN\n",
       "Good       -69.551269   4906   -72.181457   -66.921081\n",
       "Very Good  -40.464307  12082   -41.734123   -39.194491\n",
       "Premium    -30.086004  13791   -31.129829   -29.042180\n",
       "Ideal       65.254605  21551    63.078812    67.430398"
      ]
     },
     "execution_count": 23,
     "metadata": {},
     "output_type": "execute_result"
    }
   ],
   "source": [
    "X_feat_raw = X.drop('cut_code', axis=1, inplace=False).copy()\n",
    "a = ALE_1D_IS.aleplot_1D_categorical2(X=X_feat_raw, model=model, feature=\"cut\", encode_fun=numeric_encode, predictors=features, include_CI=True, C=0.95, verbose=True)\n",
    "a"
   ]
  },
  {
   "cell_type": "code",
   "execution_count": 25,
   "metadata": {},
   "outputs": [
    {
     "name": "stderr",
     "output_type": "stream",
     "text": [
      "\u001b[32m2024-05-01 22:43:22.007\u001b[0m | \u001b[1mINFO    \u001b[0m | \u001b[36mPyALE._src.ALE_1D_IS\u001b[0m:\u001b[36maleplot_1D_categorical2\u001b[0m:\u001b[36m534\u001b[0m - \u001b[1mStarting of aleplot_1D_categorical2\u001b[0m\n",
      "\u001b[32m2024-05-01 22:43:22.008\u001b[0m | \u001b[33m\u001b[1mWARNING \u001b[0m | \u001b[36mPyALE._src.ALE_1D_IS\u001b[0m:\u001b[36maleplot_1D_categorical2\u001b[0m:\u001b[36m535\u001b[0m - \u001b[33m\u001b[1mStart: Data types check of the function\u001b[0m\n",
      "\u001b[32m2024-05-01 22:43:22.010\u001b[0m | \u001b[33m\u001b[1mWARNING \u001b[0m | \u001b[36mPyALE._src.ALE_1D_IS\u001b[0m:\u001b[36maleplot_1D_categorical2\u001b[0m:\u001b[36m542\u001b[0m - \u001b[33m\u001b[1mEnd: Data types check of the function\u001b[0m\n",
      "\u001b[32m2024-05-01 22:43:22.013\u001b[0m | \u001b[34m\u001b[1mDEBUG   \u001b[0m | \u001b[36mPyALE._src.ALE_1D_IS\u001b[0m:\u001b[36maleplot_1D_categorical2\u001b[0m:\u001b[36m547\u001b[0m - \u001b[34m\u001b[1mIf condition:if (X[feature].dtype.name != 'category') or (not X[feature].cat.ordered):True\u001b[0m\n",
      "\u001b[32m2024-05-01 22:43:22.013\u001b[0m | \u001b[34m\u001b[1mDEBUG   \u001b[0m | \u001b[36mPyALE._src.ALE_1D_IS\u001b[0m:\u001b[36maleplot_1D_categorical2\u001b[0m:\u001b[36m549\u001b[0m - \u001b[34m\u001b[1mIf condition:if (X[feature].dtype.name != 'category'):True\u001b[0m\n",
      "\u001b[32m2024-05-01 22:43:22.013\u001b[0m | \u001b[34m\u001b[1mDEBUG   \u001b[0m | \u001b[36mPyALE._src.ALE_1D_IS\u001b[0m:\u001b[36maleplot_1D_categorical2\u001b[0m:\u001b[36m551\u001b[0m - \u001b[34m\u001b[1mIf condition:if (X[feature].dtype.name != 'category') or (not X[feature].cat.ordered):True\u001b[0m\n",
      "\u001b[32m2024-05-01 22:43:22.320\u001b[0m | \u001b[34m\u001b[1mDEBUG   \u001b[0m | \u001b[36mPyALE._src.ALE_1D_IS\u001b[0m:\u001b[36maleplot_1D_categorical2\u001b[0m:\u001b[36m555\u001b[0m - \u001b[34m\u001b[1mtype(groups_order.index.values):['D' 'E' 'F' 'G' 'H' 'I' 'J'], groups_order.index.values:['D' 'E' 'F' 'G' 'H' 'I' 'J']\u001b[0m\n",
      "\u001b[32m2024-05-01 22:43:25.585\u001b[0m | \u001b[1mINFO    \u001b[0m | \u001b[36mPyALE._src.lib\u001b[0m:\u001b[36mCI_estimate\u001b[0m:\u001b[36m187\u001b[0m - \u001b[1mStarting of CI_estimate\u001b[0m\n",
      "\u001b[32m2024-05-01 22:43:25.585\u001b[0m | \u001b[34m\u001b[1mDEBUG   \u001b[0m | \u001b[36mPyALE._src.lib\u001b[0m:\u001b[36mCI_estimate\u001b[0m:\u001b[36m188\u001b[0m - \u001b[34m\u001b[1mx_vec shape:(0,)\u001b[0m\n",
      "\u001b[32m2024-05-01 22:43:25.591\u001b[0m | \u001b[34m\u001b[1mDEBUG   \u001b[0m | \u001b[36mPyALE._src.lib\u001b[0m:\u001b[36mCI_estimate\u001b[0m:\u001b[36m189\u001b[0m - \u001b[34m\u001b[1mHere the population variance is not know so t distribution is used for testing.\u001b[0m\n",
      "\u001b[32m2024-05-01 22:43:25.591\u001b[0m | \u001b[34m\u001b[1mDEBUG   \u001b[0m | \u001b[36mPyALE._src.lib\u001b[0m:\u001b[36mCI_estimate\u001b[0m:\u001b[36m193\u001b[0m - \u001b[34m\u001b[1mThe standard deviation will be divided by N-1. That is done by ddof:delta degrees of freedom i.e. ddof=1 means N-ddof i.e. N-1\u001b[0m\n",
      "\u001b[32m2024-05-01 22:43:25.592\u001b[0m | \u001b[34m\u001b[1mDEBUG   \u001b[0m | \u001b[36mPyALE._src.lib\u001b[0m:\u001b[36mCI_estimate\u001b[0m:\u001b[36m195\u001b[0m - \u001b[34m\u001b[1mSample Standard Deviation:nan, Standard Error:nan\u001b[0m\n",
      "\u001b[32m2024-05-01 22:43:25.592\u001b[0m | \u001b[34m\u001b[1mDEBUG   \u001b[0m | \u001b[36mPyALE._src.lib\u001b[0m:\u001b[36mCI_estimate\u001b[0m:\u001b[36m196\u001b[0m - \u001b[34m\u001b[1mThe test statistic is t=(sample_mean-population_mean)/(sample s.d by square root of n) with dof=n-1\u001b[0m\n",
      "\u001b[32m2024-05-01 22:43:25.593\u001b[0m | \u001b[34m\u001b[1mDEBUG   \u001b[0m | \u001b[36mPyALE._src.lib\u001b[0m:\u001b[36mCI_estimate\u001b[0m:\u001b[36m198\u001b[0m - \u001b[34m\u001b[1mTwo tailed test will be considered as t is symmetric. So Level of significance/2=0.975\u001b[0m\n",
      "\u001b[32m2024-05-01 22:43:25.593\u001b[0m | \u001b[34m\u001b[1mDEBUG   \u001b[0m | \u001b[36mPyALE._src.lib\u001b[0m:\u001b[36mCI_estimate\u001b[0m:\u001b[36m199\u001b[0m - \u001b[34m\u001b[1mt=ppf(cumulativeDistributiveFunction,degreesOfFreedom,loc=0,scale=1): Percent Point Function==> Inverse of Cumulative Distribution Function percentiles\u001b[0m\n",
      "\u001b[32m2024-05-01 22:43:25.596\u001b[0m | \u001b[34m\u001b[1mDEBUG   \u001b[0m | \u001b[36mPyALE._src.lib\u001b[0m:\u001b[36mCI_estimate\u001b[0m:\u001b[36m201\u001b[0m - \u001b[34m\u001b[1mFor CDF:0.975, the t-statistic value is nan for -1 degrees of freedom\u001b[0m\n",
      "\u001b[32m2024-05-01 22:43:25.596\u001b[0m | \u001b[34m\u001b[1mDEBUG   \u001b[0m | \u001b[36mPyALE._src.lib\u001b[0m:\u001b[36mCI_estimate\u001b[0m:\u001b[36m203\u001b[0m - \u001b[34m\u001b[1mt_star:nan value should be subtracted and added to get the 95.0% Confidence Interval\u001b[0m\n",
      "\u001b[32m2024-05-01 22:43:25.598\u001b[0m | \u001b[1mINFO    \u001b[0m | \u001b[36mPyALE._src.lib\u001b[0m:\u001b[36mCI_estimate\u001b[0m:\u001b[36m204\u001b[0m - \u001b[1mEnding of CI_estimate\u001b[0m\n",
      "\u001b[32m2024-05-01 22:43:25.599\u001b[0m | \u001b[1mINFO    \u001b[0m | \u001b[36mPyALE._src.lib\u001b[0m:\u001b[36mCI_estimate\u001b[0m:\u001b[36m187\u001b[0m - \u001b[1mStarting of CI_estimate\u001b[0m\n",
      "\u001b[32m2024-05-01 22:43:25.599\u001b[0m | \u001b[34m\u001b[1mDEBUG   \u001b[0m | \u001b[36mPyALE._src.lib\u001b[0m:\u001b[36mCI_estimate\u001b[0m:\u001b[36m188\u001b[0m - \u001b[34m\u001b[1mx_vec shape:(16572,)\u001b[0m\n",
      "\u001b[32m2024-05-01 22:43:25.601\u001b[0m | \u001b[34m\u001b[1mDEBUG   \u001b[0m | \u001b[36mPyALE._src.lib\u001b[0m:\u001b[36mCI_estimate\u001b[0m:\u001b[36m189\u001b[0m - \u001b[34m\u001b[1mHere the population variance is not know so t distribution is used for testing.\u001b[0m\n",
      "\u001b[32m2024-05-01 22:43:25.602\u001b[0m | \u001b[34m\u001b[1mDEBUG   \u001b[0m | \u001b[36mPyALE._src.lib\u001b[0m:\u001b[36mCI_estimate\u001b[0m:\u001b[36m193\u001b[0m - \u001b[34m\u001b[1mThe standard deviation will be divided by N-1. That is done by ddof:delta degrees of freedom i.e. ddof=1 means N-ddof i.e. N-1\u001b[0m\n",
      "\u001b[32m2024-05-01 22:43:25.602\u001b[0m | \u001b[34m\u001b[1mDEBUG   \u001b[0m | \u001b[36mPyALE._src.lib\u001b[0m:\u001b[36mCI_estimate\u001b[0m:\u001b[36m195\u001b[0m - \u001b[34m\u001b[1mSample Standard Deviation:397.38740709267927, Standard Error:3.0869289820823793\u001b[0m\n",
      "\u001b[32m2024-05-01 22:43:25.602\u001b[0m | \u001b[34m\u001b[1mDEBUG   \u001b[0m | \u001b[36mPyALE._src.lib\u001b[0m:\u001b[36mCI_estimate\u001b[0m:\u001b[36m196\u001b[0m - \u001b[34m\u001b[1mThe test statistic is t=(sample_mean-population_mean)/(sample s.d by square root of n) with dof=n-1\u001b[0m\n",
      "\u001b[32m2024-05-01 22:43:25.603\u001b[0m | \u001b[34m\u001b[1mDEBUG   \u001b[0m | \u001b[36mPyALE._src.lib\u001b[0m:\u001b[36mCI_estimate\u001b[0m:\u001b[36m198\u001b[0m - \u001b[34m\u001b[1mTwo tailed test will be considered as t is symmetric. So Level of significance/2=0.975\u001b[0m\n",
      "\u001b[32m2024-05-01 22:43:25.604\u001b[0m | \u001b[34m\u001b[1mDEBUG   \u001b[0m | \u001b[36mPyALE._src.lib\u001b[0m:\u001b[36mCI_estimate\u001b[0m:\u001b[36m199\u001b[0m - \u001b[34m\u001b[1mt=ppf(cumulativeDistributiveFunction,degreesOfFreedom,loc=0,scale=1): Percent Point Function==> Inverse of Cumulative Distribution Function percentiles\u001b[0m\n",
      "\u001b[32m2024-05-01 22:43:25.604\u001b[0m | \u001b[34m\u001b[1mDEBUG   \u001b[0m | \u001b[36mPyALE._src.lib\u001b[0m:\u001b[36mCI_estimate\u001b[0m:\u001b[36m201\u001b[0m - \u001b[34m\u001b[1mFor CDF:0.975, the t-statistic value is 1.9601071528200131 for 16571 degrees of freedom\u001b[0m\n",
      "\u001b[32m2024-05-01 22:43:25.604\u001b[0m | \u001b[34m\u001b[1mDEBUG   \u001b[0m | \u001b[36mPyALE._src.lib\u001b[0m:\u001b[36mCI_estimate\u001b[0m:\u001b[36m203\u001b[0m - \u001b[34m\u001b[1mt_star:6.050711578027074 value should be subtracted and added to get the 95.0% Confidence Interval\u001b[0m\n",
      "\u001b[32m2024-05-01 22:43:25.605\u001b[0m | \u001b[1mINFO    \u001b[0m | \u001b[36mPyALE._src.lib\u001b[0m:\u001b[36mCI_estimate\u001b[0m:\u001b[36m204\u001b[0m - \u001b[1mEnding of CI_estimate\u001b[0m\n",
      "\u001b[32m2024-05-01 22:43:25.605\u001b[0m | \u001b[1mINFO    \u001b[0m | \u001b[36mPyALE._src.lib\u001b[0m:\u001b[36mCI_estimate\u001b[0m:\u001b[36m187\u001b[0m - \u001b[1mStarting of CI_estimate\u001b[0m\n",
      "\u001b[32m2024-05-01 22:43:25.607\u001b[0m | \u001b[34m\u001b[1mDEBUG   \u001b[0m | \u001b[36mPyALE._src.lib\u001b[0m:\u001b[36mCI_estimate\u001b[0m:\u001b[36m188\u001b[0m - \u001b[34m\u001b[1mx_vec shape:(19339,)\u001b[0m\n",
      "\u001b[32m2024-05-01 22:43:25.607\u001b[0m | \u001b[34m\u001b[1mDEBUG   \u001b[0m | \u001b[36mPyALE._src.lib\u001b[0m:\u001b[36mCI_estimate\u001b[0m:\u001b[36m189\u001b[0m - \u001b[34m\u001b[1mHere the population variance is not know so t distribution is used for testing.\u001b[0m\n",
      "\u001b[32m2024-05-01 22:43:25.608\u001b[0m | \u001b[34m\u001b[1mDEBUG   \u001b[0m | \u001b[36mPyALE._src.lib\u001b[0m:\u001b[36mCI_estimate\u001b[0m:\u001b[36m193\u001b[0m - \u001b[34m\u001b[1mThe standard deviation will be divided by N-1. That is done by ddof:delta degrees of freedom i.e. ddof=1 means N-ddof i.e. N-1\u001b[0m\n",
      "\u001b[32m2024-05-01 22:43:25.609\u001b[0m | \u001b[34m\u001b[1mDEBUG   \u001b[0m | \u001b[36mPyALE._src.lib\u001b[0m:\u001b[36mCI_estimate\u001b[0m:\u001b[36m195\u001b[0m - \u001b[34m\u001b[1mSample Standard Deviation:287.6316611818942, Standard Error:2.0683292932138615\u001b[0m\n",
      "\u001b[32m2024-05-01 22:43:25.609\u001b[0m | \u001b[34m\u001b[1mDEBUG   \u001b[0m | \u001b[36mPyALE._src.lib\u001b[0m:\u001b[36mCI_estimate\u001b[0m:\u001b[36m196\u001b[0m - \u001b[34m\u001b[1mThe test statistic is t=(sample_mean-population_mean)/(sample s.d by square root of n) with dof=n-1\u001b[0m\n",
      "\u001b[32m2024-05-01 22:43:25.610\u001b[0m | \u001b[34m\u001b[1mDEBUG   \u001b[0m | \u001b[36mPyALE._src.lib\u001b[0m:\u001b[36mCI_estimate\u001b[0m:\u001b[36m198\u001b[0m - \u001b[34m\u001b[1mTwo tailed test will be considered as t is symmetric. So Level of significance/2=0.975\u001b[0m\n",
      "\u001b[32m2024-05-01 22:43:25.611\u001b[0m | \u001b[34m\u001b[1mDEBUG   \u001b[0m | \u001b[36mPyALE._src.lib\u001b[0m:\u001b[36mCI_estimate\u001b[0m:\u001b[36m199\u001b[0m - \u001b[34m\u001b[1mt=ppf(cumulativeDistributiveFunction,degreesOfFreedom,loc=0,scale=1): Percent Point Function==> Inverse of Cumulative Distribution Function percentiles\u001b[0m\n",
      "\u001b[32m2024-05-01 22:43:25.613\u001b[0m | \u001b[34m\u001b[1mDEBUG   \u001b[0m | \u001b[36mPyALE._src.lib\u001b[0m:\u001b[36mCI_estimate\u001b[0m:\u001b[36m201\u001b[0m - \u001b[34m\u001b[1mFor CDF:0.975, the t-statistic value is 1.9600866661613805 for 19338 degrees of freedom\u001b[0m\n",
      "\u001b[32m2024-05-01 22:43:25.613\u001b[0m | \u001b[34m\u001b[1mDEBUG   \u001b[0m | \u001b[36mPyALE._src.lib\u001b[0m:\u001b[36mCI_estimate\u001b[0m:\u001b[36m203\u001b[0m - \u001b[34m\u001b[1mt_star:4.054104668859482 value should be subtracted and added to get the 95.0% Confidence Interval\u001b[0m\n",
      "\u001b[32m2024-05-01 22:43:25.613\u001b[0m | \u001b[1mINFO    \u001b[0m | \u001b[36mPyALE._src.lib\u001b[0m:\u001b[36mCI_estimate\u001b[0m:\u001b[36m204\u001b[0m - \u001b[1mEnding of CI_estimate\u001b[0m\n",
      "\u001b[32m2024-05-01 22:43:25.615\u001b[0m | \u001b[1mINFO    \u001b[0m | \u001b[36mPyALE._src.lib\u001b[0m:\u001b[36mCI_estimate\u001b[0m:\u001b[36m187\u001b[0m - \u001b[1mStarting of CI_estimate\u001b[0m\n",
      "\u001b[32m2024-05-01 22:43:25.615\u001b[0m | \u001b[34m\u001b[1mDEBUG   \u001b[0m | \u001b[36mPyALE._src.lib\u001b[0m:\u001b[36mCI_estimate\u001b[0m:\u001b[36m188\u001b[0m - \u001b[34m\u001b[1mx_vec shape:(20834,)\u001b[0m\n",
      "\u001b[32m2024-05-01 22:43:25.616\u001b[0m | \u001b[34m\u001b[1mDEBUG   \u001b[0m | \u001b[36mPyALE._src.lib\u001b[0m:\u001b[36mCI_estimate\u001b[0m:\u001b[36m189\u001b[0m - \u001b[34m\u001b[1mHere the population variance is not know so t distribution is used for testing.\u001b[0m\n",
      "\u001b[32m2024-05-01 22:43:25.618\u001b[0m | \u001b[34m\u001b[1mDEBUG   \u001b[0m | \u001b[36mPyALE._src.lib\u001b[0m:\u001b[36mCI_estimate\u001b[0m:\u001b[36m193\u001b[0m - \u001b[34m\u001b[1mThe standard deviation will be divided by N-1. That is done by ddof:delta degrees of freedom i.e. ddof=1 means N-ddof i.e. N-1\u001b[0m\n",
      "\u001b[32m2024-05-01 22:43:25.618\u001b[0m | \u001b[34m\u001b[1mDEBUG   \u001b[0m | \u001b[36mPyALE._src.lib\u001b[0m:\u001b[36mCI_estimate\u001b[0m:\u001b[36m195\u001b[0m - \u001b[34m\u001b[1mSample Standard Deviation:551.5025879278847, Standard Error:3.8208608779022906\u001b[0m\n",
      "\u001b[32m2024-05-01 22:43:25.618\u001b[0m | \u001b[34m\u001b[1mDEBUG   \u001b[0m | \u001b[36mPyALE._src.lib\u001b[0m:\u001b[36mCI_estimate\u001b[0m:\u001b[36m196\u001b[0m - \u001b[34m\u001b[1mThe test statistic is t=(sample_mean-population_mean)/(sample s.d by square root of n) with dof=n-1\u001b[0m\n",
      "\u001b[32m2024-05-01 22:43:25.619\u001b[0m | \u001b[34m\u001b[1mDEBUG   \u001b[0m | \u001b[36mPyALE._src.lib\u001b[0m:\u001b[36mCI_estimate\u001b[0m:\u001b[36m198\u001b[0m - \u001b[34m\u001b[1mTwo tailed test will be considered as t is symmetric. So Level of significance/2=0.975\u001b[0m\n",
      "\u001b[32m2024-05-01 22:43:25.620\u001b[0m | \u001b[34m\u001b[1mDEBUG   \u001b[0m | \u001b[36mPyALE._src.lib\u001b[0m:\u001b[36mCI_estimate\u001b[0m:\u001b[36m199\u001b[0m - \u001b[34m\u001b[1mt=ppf(cumulativeDistributiveFunction,degreesOfFreedom,loc=0,scale=1): Percent Point Function==> Inverse of Cumulative Distribution Function percentiles\u001b[0m\n",
      "\u001b[32m2024-05-01 22:43:25.620\u001b[0m | \u001b[34m\u001b[1mDEBUG   \u001b[0m | \u001b[36mPyALE._src.lib\u001b[0m:\u001b[36mCI_estimate\u001b[0m:\u001b[36m201\u001b[0m - \u001b[34m\u001b[1mFor CDF:0.975, the t-statistic value is 1.9600778618845691 for 20833 degrees of freedom\u001b[0m\n",
      "\u001b[32m2024-05-01 22:43:25.621\u001b[0m | \u001b[34m\u001b[1mDEBUG   \u001b[0m | \u001b[36mPyALE._src.lib\u001b[0m:\u001b[36mCI_estimate\u001b[0m:\u001b[36m203\u001b[0m - \u001b[34m\u001b[1mt_star:7.489184820117119 value should be subtracted and added to get the 95.0% Confidence Interval\u001b[0m\n",
      "\u001b[32m2024-05-01 22:43:25.621\u001b[0m | \u001b[1mINFO    \u001b[0m | \u001b[36mPyALE._src.lib\u001b[0m:\u001b[36mCI_estimate\u001b[0m:\u001b[36m204\u001b[0m - \u001b[1mEnding of CI_estimate\u001b[0m\n",
      "\u001b[32m2024-05-01 22:43:25.623\u001b[0m | \u001b[1mINFO    \u001b[0m | \u001b[36mPyALE._src.lib\u001b[0m:\u001b[36mCI_estimate\u001b[0m:\u001b[36m187\u001b[0m - \u001b[1mStarting of CI_estimate\u001b[0m\n",
      "\u001b[32m2024-05-01 22:43:25.624\u001b[0m | \u001b[34m\u001b[1mDEBUG   \u001b[0m | \u001b[36mPyALE._src.lib\u001b[0m:\u001b[36mCI_estimate\u001b[0m:\u001b[36m188\u001b[0m - \u001b[34m\u001b[1mx_vec shape:(19596,)\u001b[0m\n",
      "\u001b[32m2024-05-01 22:43:25.624\u001b[0m | \u001b[34m\u001b[1mDEBUG   \u001b[0m | \u001b[36mPyALE._src.lib\u001b[0m:\u001b[36mCI_estimate\u001b[0m:\u001b[36m189\u001b[0m - \u001b[34m\u001b[1mHere the population variance is not know so t distribution is used for testing.\u001b[0m\n",
      "\u001b[32m2024-05-01 22:43:25.624\u001b[0m | \u001b[34m\u001b[1mDEBUG   \u001b[0m | \u001b[36mPyALE._src.lib\u001b[0m:\u001b[36mCI_estimate\u001b[0m:\u001b[36m193\u001b[0m - \u001b[34m\u001b[1mThe standard deviation will be divided by N-1. That is done by ddof:delta degrees of freedom i.e. ddof=1 means N-ddof i.e. N-1\u001b[0m\n",
      "\u001b[32m2024-05-01 22:43:25.626\u001b[0m | \u001b[34m\u001b[1mDEBUG   \u001b[0m | \u001b[36mPyALE._src.lib\u001b[0m:\u001b[36mCI_estimate\u001b[0m:\u001b[36m195\u001b[0m - \u001b[34m\u001b[1mSample Standard Deviation:756.5237301730683, Standard Error:5.404292416355968\u001b[0m\n",
      "\u001b[32m2024-05-01 22:43:25.626\u001b[0m | \u001b[34m\u001b[1mDEBUG   \u001b[0m | \u001b[36mPyALE._src.lib\u001b[0m:\u001b[36mCI_estimate\u001b[0m:\u001b[36m196\u001b[0m - \u001b[34m\u001b[1mThe test statistic is t=(sample_mean-population_mean)/(sample s.d by square root of n) with dof=n-1\u001b[0m\n",
      "\u001b[32m2024-05-01 22:43:25.627\u001b[0m | \u001b[34m\u001b[1mDEBUG   \u001b[0m | \u001b[36mPyALE._src.lib\u001b[0m:\u001b[36mCI_estimate\u001b[0m:\u001b[36m198\u001b[0m - \u001b[34m\u001b[1mTwo tailed test will be considered as t is symmetric. So Level of significance/2=0.975\u001b[0m\n",
      "\u001b[32m2024-05-01 22:43:25.628\u001b[0m | \u001b[34m\u001b[1mDEBUG   \u001b[0m | \u001b[36mPyALE._src.lib\u001b[0m:\u001b[36mCI_estimate\u001b[0m:\u001b[36m199\u001b[0m - \u001b[34m\u001b[1mt=ppf(cumulativeDistributiveFunction,degreesOfFreedom,loc=0,scale=1): Percent Point Function==> Inverse of Cumulative Distribution Function percentiles\u001b[0m\n",
      "\u001b[32m2024-05-01 22:43:25.629\u001b[0m | \u001b[34m\u001b[1mDEBUG   \u001b[0m | \u001b[36mPyALE._src.lib\u001b[0m:\u001b[36mCI_estimate\u001b[0m:\u001b[36m201\u001b[0m - \u001b[34m\u001b[1mFor CDF:0.975, the t-statistic value is 1.9600850570217445 for 19595 degrees of freedom\u001b[0m\n",
      "\u001b[32m2024-05-01 22:43:25.631\u001b[0m | \u001b[34m\u001b[1mDEBUG   \u001b[0m | \u001b[36mPyALE._src.lib\u001b[0m:\u001b[36mCI_estimate\u001b[0m:\u001b[36m203\u001b[0m - \u001b[34m\u001b[1mt_star:10.592872809075269 value should be subtracted and added to get the 95.0% Confidence Interval\u001b[0m\n",
      "\u001b[32m2024-05-01 22:43:25.631\u001b[0m | \u001b[1mINFO    \u001b[0m | \u001b[36mPyALE._src.lib\u001b[0m:\u001b[36mCI_estimate\u001b[0m:\u001b[36m204\u001b[0m - \u001b[1mEnding of CI_estimate\u001b[0m\n",
      "\u001b[32m2024-05-01 22:43:25.631\u001b[0m | \u001b[1mINFO    \u001b[0m | \u001b[36mPyALE._src.lib\u001b[0m:\u001b[36mCI_estimate\u001b[0m:\u001b[36m187\u001b[0m - \u001b[1mStarting of CI_estimate\u001b[0m\n",
      "\u001b[32m2024-05-01 22:43:25.632\u001b[0m | \u001b[34m\u001b[1mDEBUG   \u001b[0m | \u001b[36mPyALE._src.lib\u001b[0m:\u001b[36mCI_estimate\u001b[0m:\u001b[36m188\u001b[0m - \u001b[34m\u001b[1mx_vec shape:(13726,)\u001b[0m\n",
      "\u001b[32m2024-05-01 22:43:25.632\u001b[0m | \u001b[34m\u001b[1mDEBUG   \u001b[0m | \u001b[36mPyALE._src.lib\u001b[0m:\u001b[36mCI_estimate\u001b[0m:\u001b[36m189\u001b[0m - \u001b[34m\u001b[1mHere the population variance is not know so t distribution is used for testing.\u001b[0m\n",
      "\u001b[32m2024-05-01 22:43:25.632\u001b[0m | \u001b[34m\u001b[1mDEBUG   \u001b[0m | \u001b[36mPyALE._src.lib\u001b[0m:\u001b[36mCI_estimate\u001b[0m:\u001b[36m193\u001b[0m - \u001b[34m\u001b[1mThe standard deviation will be divided by N-1. That is done by ddof:delta degrees of freedom i.e. ddof=1 means N-ddof i.e. N-1\u001b[0m\n",
      "\u001b[32m2024-05-01 22:43:25.634\u001b[0m | \u001b[34m\u001b[1mDEBUG   \u001b[0m | \u001b[36mPyALE._src.lib\u001b[0m:\u001b[36mCI_estimate\u001b[0m:\u001b[36m195\u001b[0m - \u001b[34m\u001b[1mSample Standard Deviation:641.4344720540939, Standard Error:5.474951784051494\u001b[0m\n",
      "\u001b[32m2024-05-01 22:43:25.634\u001b[0m | \u001b[34m\u001b[1mDEBUG   \u001b[0m | \u001b[36mPyALE._src.lib\u001b[0m:\u001b[36mCI_estimate\u001b[0m:\u001b[36m196\u001b[0m - \u001b[34m\u001b[1mThe test statistic is t=(sample_mean-population_mean)/(sample s.d by square root of n) with dof=n-1\u001b[0m\n",
      "\u001b[32m2024-05-01 22:43:25.634\u001b[0m | \u001b[34m\u001b[1mDEBUG   \u001b[0m | \u001b[36mPyALE._src.lib\u001b[0m:\u001b[36mCI_estimate\u001b[0m:\u001b[36m198\u001b[0m - \u001b[34m\u001b[1mTwo tailed test will be considered as t is symmetric. So Level of significance/2=0.975\u001b[0m\n",
      "\u001b[32m2024-05-01 22:43:25.635\u001b[0m | \u001b[34m\u001b[1mDEBUG   \u001b[0m | \u001b[36mPyALE._src.lib\u001b[0m:\u001b[36mCI_estimate\u001b[0m:\u001b[36m199\u001b[0m - \u001b[34m\u001b[1mt=ppf(cumulativeDistributiveFunction,degreesOfFreedom,loc=0,scale=1): Percent Point Function==> Inverse of Cumulative Distribution Function percentiles\u001b[0m\n",
      "\u001b[32m2024-05-01 22:43:25.636\u001b[0m | \u001b[34m\u001b[1mDEBUG   \u001b[0m | \u001b[36mPyALE._src.lib\u001b[0m:\u001b[36mCI_estimate\u001b[0m:\u001b[36m201\u001b[0m - \u001b[34m\u001b[1mFor CDF:0.975, the t-statistic value is 1.9601368426012848 for 13725 degrees of freedom\u001b[0m\n",
      "\u001b[32m2024-05-01 22:43:25.637\u001b[0m | \u001b[34m\u001b[1mDEBUG   \u001b[0m | \u001b[36mPyALE._src.lib\u001b[0m:\u001b[36mCI_estimate\u001b[0m:\u001b[36m203\u001b[0m - \u001b[34m\u001b[1mt_star:10.731654703384967 value should be subtracted and added to get the 95.0% Confidence Interval\u001b[0m\n",
      "\u001b[32m2024-05-01 22:43:25.639\u001b[0m | \u001b[1mINFO    \u001b[0m | \u001b[36mPyALE._src.lib\u001b[0m:\u001b[36mCI_estimate\u001b[0m:\u001b[36m204\u001b[0m - \u001b[1mEnding of CI_estimate\u001b[0m\n",
      "\u001b[32m2024-05-01 22:43:25.639\u001b[0m | \u001b[1mINFO    \u001b[0m | \u001b[36mPyALE._src.lib\u001b[0m:\u001b[36mCI_estimate\u001b[0m:\u001b[36m187\u001b[0m - \u001b[1mStarting of CI_estimate\u001b[0m\n",
      "\u001b[32m2024-05-01 22:43:25.640\u001b[0m | \u001b[34m\u001b[1mDEBUG   \u001b[0m | \u001b[36mPyALE._src.lib\u001b[0m:\u001b[36mCI_estimate\u001b[0m:\u001b[36m188\u001b[0m - \u001b[34m\u001b[1mx_vec shape:(8230,)\u001b[0m\n",
      "\u001b[32m2024-05-01 22:43:25.640\u001b[0m | \u001b[34m\u001b[1mDEBUG   \u001b[0m | \u001b[36mPyALE._src.lib\u001b[0m:\u001b[36mCI_estimate\u001b[0m:\u001b[36m189\u001b[0m - \u001b[34m\u001b[1mHere the population variance is not know so t distribution is used for testing.\u001b[0m\n",
      "\u001b[32m2024-05-01 22:43:25.642\u001b[0m | \u001b[34m\u001b[1mDEBUG   \u001b[0m | \u001b[36mPyALE._src.lib\u001b[0m:\u001b[36mCI_estimate\u001b[0m:\u001b[36m193\u001b[0m - \u001b[34m\u001b[1mThe standard deviation will be divided by N-1. That is done by ddof:delta degrees of freedom i.e. ddof=1 means N-ddof i.e. N-1\u001b[0m\n",
      "\u001b[32m2024-05-01 22:43:25.642\u001b[0m | \u001b[34m\u001b[1mDEBUG   \u001b[0m | \u001b[36mPyALE._src.lib\u001b[0m:\u001b[36mCI_estimate\u001b[0m:\u001b[36m195\u001b[0m - \u001b[34m\u001b[1mSample Standard Deviation:909.5731948148721, Standard Error:10.026231674705324\u001b[0m\n",
      "\u001b[32m2024-05-01 22:43:25.642\u001b[0m | \u001b[34m\u001b[1mDEBUG   \u001b[0m | \u001b[36mPyALE._src.lib\u001b[0m:\u001b[36mCI_estimate\u001b[0m:\u001b[36m196\u001b[0m - \u001b[34m\u001b[1mThe test statistic is t=(sample_mean-population_mean)/(sample s.d by square root of n) with dof=n-1\u001b[0m\n",
      "\u001b[32m2024-05-01 22:43:25.644\u001b[0m | \u001b[34m\u001b[1mDEBUG   \u001b[0m | \u001b[36mPyALE._src.lib\u001b[0m:\u001b[36mCI_estimate\u001b[0m:\u001b[36m198\u001b[0m - \u001b[34m\u001b[1mTwo tailed test will be considered as t is symmetric. So Level of significance/2=0.975\u001b[0m\n",
      "\u001b[32m2024-05-01 22:43:25.645\u001b[0m | \u001b[34m\u001b[1mDEBUG   \u001b[0m | \u001b[36mPyALE._src.lib\u001b[0m:\u001b[36mCI_estimate\u001b[0m:\u001b[36m199\u001b[0m - \u001b[34m\u001b[1mt=ppf(cumulativeDistributiveFunction,degreesOfFreedom,loc=0,scale=1): Percent Point Function==> Inverse of Cumulative Distribution Function percentiles\u001b[0m\n",
      "\u001b[32m2024-05-01 22:43:25.645\u001b[0m | \u001b[34m\u001b[1mDEBUG   \u001b[0m | \u001b[36mPyALE._src.lib\u001b[0m:\u001b[36mCI_estimate\u001b[0m:\u001b[36m201\u001b[0m - \u001b[34m\u001b[1mFor CDF:0.975, the t-statistic value is 1.9602523080620085 for 8229 degrees of freedom\u001b[0m\n",
      "\u001b[32m2024-05-01 22:43:25.646\u001b[0m | \u001b[34m\u001b[1mDEBUG   \u001b[0m | \u001b[36mPyALE._src.lib\u001b[0m:\u001b[36mCI_estimate\u001b[0m:\u001b[36m203\u001b[0m - \u001b[34m\u001b[1mt_star:19.65394378150553 value should be subtracted and added to get the 95.0% Confidence Interval\u001b[0m\n",
      "\u001b[32m2024-05-01 22:43:25.646\u001b[0m | \u001b[1mINFO    \u001b[0m | \u001b[36mPyALE._src.lib\u001b[0m:\u001b[36mCI_estimate\u001b[0m:\u001b[36m204\u001b[0m - \u001b[1mEnding of CI_estimate\u001b[0m\n"
     ]
    },
    {
     "data": {
      "text/html": [
       "<div>\n",
       "<style scoped>\n",
       "    .dataframe tbody tr th:only-of-type {\n",
       "        vertical-align: middle;\n",
       "    }\n",
       "\n",
       "    .dataframe tbody tr th {\n",
       "        vertical-align: top;\n",
       "    }\n",
       "\n",
       "    .dataframe thead th {\n",
       "        text-align: right;\n",
       "    }\n",
       "</style>\n",
       "<table border=\"1\" class=\"dataframe\">\n",
       "  <thead>\n",
       "    <tr style=\"text-align: right;\">\n",
       "      <th></th>\n",
       "      <th>eff</th>\n",
       "      <th>size</th>\n",
       "      <th>lowerCI_95%</th>\n",
       "      <th>upperCI_95%</th>\n",
       "    </tr>\n",
       "    <tr>\n",
       "      <th>color</th>\n",
       "      <th></th>\n",
       "      <th></th>\n",
       "      <th></th>\n",
       "      <th></th>\n",
       "    </tr>\n",
       "  </thead>\n",
       "  <tbody>\n",
       "    <tr>\n",
       "      <th>D</th>\n",
       "      <td>637.878462</td>\n",
       "      <td>6775</td>\n",
       "      <td>NaN</td>\n",
       "      <td>NaN</td>\n",
       "    </tr>\n",
       "    <tr>\n",
       "      <th>E</th>\n",
       "      <td>469.732779</td>\n",
       "      <td>9797</td>\n",
       "      <td>463.682068</td>\n",
       "      <td>475.783491</td>\n",
       "    </tr>\n",
       "    <tr>\n",
       "      <th>F</th>\n",
       "      <td>329.730834</td>\n",
       "      <td>9542</td>\n",
       "      <td>325.676729</td>\n",
       "      <td>333.784938</td>\n",
       "    </tr>\n",
       "    <tr>\n",
       "      <th>G</th>\n",
       "      <td>24.889515</td>\n",
       "      <td>11292</td>\n",
       "      <td>17.400330</td>\n",
       "      <td>32.378700</td>\n",
       "    </tr>\n",
       "    <tr>\n",
       "      <th>H</th>\n",
       "      <td>-405.224853</td>\n",
       "      <td>8304</td>\n",
       "      <td>-415.817725</td>\n",
       "      <td>-394.631980</td>\n",
       "    </tr>\n",
       "    <tr>\n",
       "      <th>I</th>\n",
       "      <td>-853.460545</td>\n",
       "      <td>5422</td>\n",
       "      <td>-864.192200</td>\n",
       "      <td>-842.728890</td>\n",
       "    </tr>\n",
       "    <tr>\n",
       "      <th>J</th>\n",
       "      <td>-1552.169653</td>\n",
       "      <td>2808</td>\n",
       "      <td>-1571.823596</td>\n",
       "      <td>-1532.515709</td>\n",
       "    </tr>\n",
       "  </tbody>\n",
       "</table>\n",
       "</div>"
      ],
      "text/plain": [
       "               eff   size  lowerCI_95%  upperCI_95%\n",
       "color                                              \n",
       "D       637.878462   6775          NaN          NaN\n",
       "E       469.732779   9797   463.682068   475.783491\n",
       "F       329.730834   9542   325.676729   333.784938\n",
       "G        24.889515  11292    17.400330    32.378700\n",
       "H      -405.224853   8304  -415.817725  -394.631980\n",
       "I      -853.460545   5422  -864.192200  -842.728890\n",
       "J     -1552.169653   2808 -1571.823596 -1532.515709"
      ]
     },
     "execution_count": 25,
     "metadata": {},
     "output_type": "execute_result"
    }
   ],
   "source": [
    "X_feat_raw = X.drop(coded_feature.columns.to_list(), axis=1, inplace=False).copy()\n",
    "b = ALE_1D_IS.aleplot_1D_categorical2(X=X_feat_raw, model=model, feature=\"color\", encode_fun=onehot_encode, predictors=features, include_CI=True, C=0.95, verbose=True)\n",
    "b"
   ]
  },
  {
   "cell_type": "code",
   "execution_count": null,
   "metadata": {},
   "outputs": [],
   "source": []
  }
 ],
 "metadata": {
  "kernelspec": {
   "display_name": "demo01",
   "language": "python",
   "name": "python3"
  },
  "language_info": {
   "codemirror_mode": {
    "name": "ipython",
    "version": 3
   },
   "file_extension": ".py",
   "mimetype": "text/x-python",
   "name": "python",
   "nbconvert_exporter": "python",
   "pygments_lexer": "ipython3",
   "version": "3.11.8"
  }
 },
 "nbformat": 4,
 "nbformat_minor": 2
}
