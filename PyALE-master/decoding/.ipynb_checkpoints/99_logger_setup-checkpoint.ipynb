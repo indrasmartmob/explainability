{
 "cells": [
  {
   "cell_type": "markdown",
   "id": "91c2ae45-5456-4d15-900f-3177f1ce2c91",
   "metadata": {},
   "source": [
    "## ALE plots"
   ]
  },
  {
   "cell_type": "code",
   "execution_count": 1,
   "id": "c56b6b2a-d09a-45da-b013-be88bb0f34d8",
   "metadata": {},
   "outputs": [
    {
     "data": {
      "text/plain": [
       "['C:\\\\D_Drive\\\\Indra\\\\github_projects\\\\explainability\\\\PyALE-master\\\\decoding',\n",
       " 'C:\\\\Users\\\\iammo\\\\anaconda3\\\\envs\\\\demo01\\\\python311.zip',\n",
       " 'C:\\\\Users\\\\iammo\\\\anaconda3\\\\envs\\\\demo01\\\\DLLs',\n",
       " 'C:\\\\Users\\\\iammo\\\\anaconda3\\\\envs\\\\demo01\\\\Lib',\n",
       " 'C:\\\\Users\\\\iammo\\\\anaconda3\\\\envs\\\\demo01',\n",
       " '',\n",
       " 'C:\\\\Users\\\\iammo\\\\anaconda3\\\\envs\\\\demo01\\\\Lib\\\\site-packages',\n",
       " 'C:\\\\Users\\\\iammo\\\\anaconda3\\\\envs\\\\demo01\\\\Lib\\\\site-packages\\\\win32',\n",
       " 'C:\\\\Users\\\\iammo\\\\anaconda3\\\\envs\\\\demo01\\\\Lib\\\\site-packages\\\\win32\\\\lib',\n",
       " 'C:\\\\Users\\\\iammo\\\\anaconda3\\\\envs\\\\demo01\\\\Lib\\\\site-packages\\\\Pythonwin']"
      ]
     },
     "execution_count": 1,
     "metadata": {},
     "output_type": "execute_result"
    }
   ],
   "source": [
    "import sys\n",
    "sys.path"
   ]
  },
  {
   "cell_type": "code",
   "execution_count": 2,
   "id": "4b9ec246-5855-4b75-911f-01a18898739d",
   "metadata": {},
   "outputs": [
    {
     "data": {
      "text/plain": [
       "['C:\\\\D_Drive\\\\Indra\\\\github_projects\\\\explainability\\\\PyALE-master',\n",
       " 'C:\\\\D_Drive\\\\Indra\\\\github_projects\\\\explainability\\\\PyALE-master\\\\decoding',\n",
       " 'C:\\\\Users\\\\iammo\\\\anaconda3\\\\envs\\\\demo01\\\\python311.zip',\n",
       " 'C:\\\\Users\\\\iammo\\\\anaconda3\\\\envs\\\\demo01\\\\DLLs',\n",
       " 'C:\\\\Users\\\\iammo\\\\anaconda3\\\\envs\\\\demo01\\\\Lib',\n",
       " 'C:\\\\Users\\\\iammo\\\\anaconda3\\\\envs\\\\demo01',\n",
       " '',\n",
       " 'C:\\\\Users\\\\iammo\\\\anaconda3\\\\envs\\\\demo01\\\\Lib\\\\site-packages',\n",
       " 'C:\\\\Users\\\\iammo\\\\anaconda3\\\\envs\\\\demo01\\\\Lib\\\\site-packages\\\\win32',\n",
       " 'C:\\\\Users\\\\iammo\\\\anaconda3\\\\envs\\\\demo01\\\\Lib\\\\site-packages\\\\win32\\\\lib',\n",
       " 'C:\\\\Users\\\\iammo\\\\anaconda3\\\\envs\\\\demo01\\\\Lib\\\\site-packages\\\\Pythonwin']"
      ]
     },
     "execution_count": 2,
     "metadata": {},
     "output_type": "execute_result"
    }
   ],
   "source": [
    "alepath=\"C:\\D_Drive\\Indra\\github_projects\\explainability\\PyALE-master\"\n",
    "sys.path.insert(0,alepath)\n",
    "sys.path"
   ]
  },
  {
   "cell_type": "code",
   "execution_count": 3,
   "id": "fa9a6f6d-4472-46fd-824b-cdd6fc68a722",
   "metadata": {},
   "outputs": [],
   "source": [
    "from PyALE import ale, ALE_1D_IS"
   ]
  },
  {
   "cell_type": "code",
   "execution_count": 4,
   "id": "51610e5e-8ccd-445e-88fe-6e17b183c12a",
   "metadata": {},
   "outputs": [
    {
     "name": "stderr",
     "output_type": "stream",
     "text": [
      "\u001b[32m2024-04-20 13:45:32.012\u001b[0m | \u001b[1mINFO    \u001b[0m | \u001b[36mPyALE._src.ALE_1D_IS\u001b[0m:\u001b[36mfn_check\u001b[0m:\u001b[36m11\u001b[0m - \u001b[1mThis line will not come if logger.disable is done in the start of the file\u001b[0m\n",
      "\u001b[32m2024-04-20 13:45:32.019\u001b[0m | \u001b[1mINFO    \u001b[0m | \u001b[36mPyALE._src.ALE_1D_IS\u001b[0m:\u001b[36mfn_check\u001b[0m:\u001b[36m14\u001b[0m - \u001b[1mIn the fn_check method\u001b[0m\n",
      "\u001b[32m2024-04-20 13:45:32.021\u001b[0m | \u001b[34m\u001b[1mDEBUG   \u001b[0m | \u001b[36mPyALE._src.ALE_1D_IS\u001b[0m:\u001b[36mfn_check\u001b[0m:\u001b[36m16\u001b[0m - \u001b[34m\u001b[1mA debug message.\u001b[0m\n",
      "\u001b[32m2024-04-20 13:45:32.022\u001b[0m | \u001b[1mINFO    \u001b[0m | \u001b[36mPyALE._src.ALE_1D_IS\u001b[0m:\u001b[36mfn_check\u001b[0m:\u001b[36m17\u001b[0m - \u001b[1mAn info message.\u001b[0m\n",
      "\u001b[32m2024-04-20 13:45:32.025\u001b[0m | \u001b[32m\u001b[1mSUCCESS \u001b[0m | \u001b[36mPyALE._src.ALE_1D_IS\u001b[0m:\u001b[36mfn_check\u001b[0m:\u001b[36m18\u001b[0m - \u001b[32m\u001b[1mA success message.\u001b[0m\n",
      "\u001b[32m2024-04-20 13:45:32.027\u001b[0m | \u001b[33m\u001b[1mWARNING \u001b[0m | \u001b[36mPyALE._src.ALE_1D_IS\u001b[0m:\u001b[36mfn_check\u001b[0m:\u001b[36m19\u001b[0m - \u001b[33m\u001b[1mA warning message.\u001b[0m\n",
      "\u001b[32m2024-04-20 13:45:32.030\u001b[0m | \u001b[31m\u001b[1mERROR   \u001b[0m | \u001b[36mPyALE._src.ALE_1D_IS\u001b[0m:\u001b[36mfn_check\u001b[0m:\u001b[36m20\u001b[0m - \u001b[31m\u001b[1mAn error message.\u001b[0m\n",
      "\u001b[32m2024-04-20 13:45:32.031\u001b[0m | \u001b[41m\u001b[1mCRITICAL\u001b[0m | \u001b[36mPyALE._src.ALE_1D_IS\u001b[0m:\u001b[36mfn_check\u001b[0m:\u001b[36m21\u001b[0m - \u001b[41m\u001b[1mA critical message.\u001b[0m\n"
     ]
    }
   ],
   "source": [
    "ALE_1D_IS.fn_check()"
   ]
  },
  {
   "cell_type": "code",
   "execution_count": 5,
   "id": "bca6e05c-78b2-435d-acfa-82ab733e62a2",
   "metadata": {},
   "outputs": [
    {
     "name": "stderr",
     "output_type": "stream",
     "text": [
      "\u001b[32m2024-04-20 13:45:32.059\u001b[0m | \u001b[1mINFO    \u001b[0m | \u001b[36mPyALE._src.ALE_1D_IS\u001b[0m:\u001b[36mfn_check\u001b[0m:\u001b[36m11\u001b[0m - \u001b[1mThis line will not come if logger.disable is done in the start of the file\u001b[0m\n"
     ]
    }
   ],
   "source": [
    "ALE_1D_IS.fn_check(disable=True)"
   ]
  }
 ],
 "metadata": {
  "kernelspec": {
   "display_name": "Python 3 (ipykernel)",
   "language": "python",
   "name": "python3"
  },
  "language_info": {
   "codemirror_mode": {
    "name": "ipython",
    "version": 3
   },
   "file_extension": ".py",
   "mimetype": "text/x-python",
   "name": "python",
   "nbconvert_exporter": "python",
   "pygments_lexer": "ipython3",
   "version": "3.11.8"
  }
 },
 "nbformat": 4,
 "nbformat_minor": 5
}
