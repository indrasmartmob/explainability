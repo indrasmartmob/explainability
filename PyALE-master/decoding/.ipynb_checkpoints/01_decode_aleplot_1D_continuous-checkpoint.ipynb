{
 "cells": [
  {
   "cell_type": "markdown",
   "id": "91c2ae45-5456-4d15-900f-3177f1ce2c91",
   "metadata": {},
   "source": [
    "## ALE plots"
   ]
  },
  {
   "cell_type": "code",
   "execution_count": 1,
   "id": "c56b6b2a-d09a-45da-b013-be88bb0f34d8",
   "metadata": {},
   "outputs": [
    {
     "data": {
      "text/plain": [
       "['C:\\\\D_Drive\\\\Indra\\\\github_projects\\\\explainability\\\\PyALE-master\\\\decoding',\n",
       " 'C:\\\\Users\\\\iammo\\\\anaconda3\\\\envs\\\\demo01\\\\python311.zip',\n",
       " 'C:\\\\Users\\\\iammo\\\\anaconda3\\\\envs\\\\demo01\\\\DLLs',\n",
       " 'C:\\\\Users\\\\iammo\\\\anaconda3\\\\envs\\\\demo01\\\\Lib',\n",
       " 'C:\\\\Users\\\\iammo\\\\anaconda3\\\\envs\\\\demo01',\n",
       " '',\n",
       " 'C:\\\\Users\\\\iammo\\\\anaconda3\\\\envs\\\\demo01\\\\Lib\\\\site-packages',\n",
       " 'C:\\\\Users\\\\iammo\\\\anaconda3\\\\envs\\\\demo01\\\\Lib\\\\site-packages\\\\win32',\n",
       " 'C:\\\\Users\\\\iammo\\\\anaconda3\\\\envs\\\\demo01\\\\Lib\\\\site-packages\\\\win32\\\\lib',\n",
       " 'C:\\\\Users\\\\iammo\\\\anaconda3\\\\envs\\\\demo01\\\\Lib\\\\site-packages\\\\Pythonwin']"
      ]
     },
     "execution_count": 1,
     "metadata": {},
     "output_type": "execute_result"
    }
   ],
   "source": [
    "import sys\n",
    "sys.path"
   ]
  },
  {
   "cell_type": "code",
   "execution_count": 2,
   "id": "4b9ec246-5855-4b75-911f-01a18898739d",
   "metadata": {},
   "outputs": [
    {
     "data": {
      "text/plain": [
       "['C:\\\\D_Drive\\\\Indra\\\\github_projects\\\\explainability\\\\PyALE-master',\n",
       " 'C:\\\\D_Drive\\\\Indra\\\\github_projects\\\\explainability\\\\PyALE-master\\\\decoding',\n",
       " 'C:\\\\Users\\\\iammo\\\\anaconda3\\\\envs\\\\demo01\\\\python311.zip',\n",
       " 'C:\\\\Users\\\\iammo\\\\anaconda3\\\\envs\\\\demo01\\\\DLLs',\n",
       " 'C:\\\\Users\\\\iammo\\\\anaconda3\\\\envs\\\\demo01\\\\Lib',\n",
       " 'C:\\\\Users\\\\iammo\\\\anaconda3\\\\envs\\\\demo01',\n",
       " '',\n",
       " 'C:\\\\Users\\\\iammo\\\\anaconda3\\\\envs\\\\demo01\\\\Lib\\\\site-packages',\n",
       " 'C:\\\\Users\\\\iammo\\\\anaconda3\\\\envs\\\\demo01\\\\Lib\\\\site-packages\\\\win32',\n",
       " 'C:\\\\Users\\\\iammo\\\\anaconda3\\\\envs\\\\demo01\\\\Lib\\\\site-packages\\\\win32\\\\lib',\n",
       " 'C:\\\\Users\\\\iammo\\\\anaconda3\\\\envs\\\\demo01\\\\Lib\\\\site-packages\\\\Pythonwin']"
      ]
     },
     "execution_count": 2,
     "metadata": {},
     "output_type": "execute_result"
    }
   ],
   "source": [
    "alepath=\"C:\\D_Drive\\Indra\\github_projects\\explainability\\PyALE-master\"\n",
    "sys.path.insert(0,alepath)\n",
    "sys.path"
   ]
  },
  {
   "cell_type": "code",
   "execution_count": 3,
   "id": "fa9a6f6d-4472-46fd-824b-cdd6fc68a722",
   "metadata": {},
   "outputs": [],
   "source": [
    "from PyALE import ale, ALE_1D, ALE_2D, lib"
   ]
  },
  {
   "cell_type": "code",
   "execution_count": 4,
   "id": "51610e5e-8ccd-445e-88fe-6e17b183c12a",
   "metadata": {},
   "outputs": [
    {
     "name": "stderr",
     "output_type": "stream",
     "text": [
      "\u001b[32m2024-04-17 15:08:58.433\u001b[0m | \u001b[1mINFO    \u001b[0m | \u001b[36mPyALE._src.ALE_1D\u001b[0m:\u001b[36mfn_check\u001b[0m:\u001b[36m19\u001b[0m - \u001b[1mThis line will not come if logger.disable is done in the start of the file\u001b[0m\n",
      "\u001b[32m2024-04-17 15:08:58.436\u001b[0m | \u001b[1mINFO    \u001b[0m | \u001b[36mPyALE._src.ALE_1D\u001b[0m:\u001b[36mfn_check\u001b[0m:\u001b[36m22\u001b[0m - \u001b[1mIn the fn_check method\u001b[0m\n",
      "\u001b[32m2024-04-17 15:08:58.438\u001b[0m | \u001b[34m\u001b[1mDEBUG   \u001b[0m | \u001b[36mPyALE._src.ALE_1D\u001b[0m:\u001b[36mfn_check\u001b[0m:\u001b[36m24\u001b[0m - \u001b[34m\u001b[1mA debug message.\u001b[0m\n",
      "\u001b[32m2024-04-17 15:08:58.439\u001b[0m | \u001b[1mINFO    \u001b[0m | \u001b[36mPyALE._src.ALE_1D\u001b[0m:\u001b[36mfn_check\u001b[0m:\u001b[36m25\u001b[0m - \u001b[1mAn info message.\u001b[0m\n",
      "\u001b[32m2024-04-17 15:08:58.439\u001b[0m | \u001b[32m\u001b[1mSUCCESS \u001b[0m | \u001b[36mPyALE._src.ALE_1D\u001b[0m:\u001b[36mfn_check\u001b[0m:\u001b[36m26\u001b[0m - \u001b[32m\u001b[1mA success message.\u001b[0m\n",
      "\u001b[32m2024-04-17 15:08:58.440\u001b[0m | \u001b[33m\u001b[1mWARNING \u001b[0m | \u001b[36mPyALE._src.ALE_1D\u001b[0m:\u001b[36mfn_check\u001b[0m:\u001b[36m27\u001b[0m - \u001b[33m\u001b[1mA warning message.\u001b[0m\n",
      "\u001b[32m2024-04-17 15:08:58.441\u001b[0m | \u001b[31m\u001b[1mERROR   \u001b[0m | \u001b[36mPyALE._src.ALE_1D\u001b[0m:\u001b[36mfn_check\u001b[0m:\u001b[36m28\u001b[0m - \u001b[31m\u001b[1mAn error message.\u001b[0m\n",
      "\u001b[32m2024-04-17 15:08:58.442\u001b[0m | \u001b[41m\u001b[1mCRITICAL\u001b[0m | \u001b[36mPyALE._src.ALE_1D\u001b[0m:\u001b[36mfn_check\u001b[0m:\u001b[36m29\u001b[0m - \u001b[41m\u001b[1mA critical message.\u001b[0m\n"
     ]
    }
   ],
   "source": [
    "ALE_1D.fn_check()"
   ]
  },
  {
   "cell_type": "code",
   "execution_count": 5,
   "id": "bca6e05c-78b2-435d-acfa-82ab733e62a2",
   "metadata": {},
   "outputs": [
    {
     "name": "stderr",
     "output_type": "stream",
     "text": [
      "\u001b[32m2024-04-17 15:08:58.482\u001b[0m | \u001b[1mINFO    \u001b[0m | \u001b[36mPyALE._src.ALE_1D\u001b[0m:\u001b[36mfn_check\u001b[0m:\u001b[36m19\u001b[0m - \u001b[1mThis line will not come if logger.disable is done in the start of the file\u001b[0m\n"
     ]
    }
   ],
   "source": [
    "ALE_1D.fn_check(disable=True)"
   ]
  },
  {
   "cell_type": "markdown",
   "id": "055e5cde-4b5f-49e5-a089-695c35d64bfb",
   "metadata": {},
   "source": [
    "# PyALE: Usage examples"
   ]
  },
  {
   "cell_type": "code",
   "execution_count": 1,
   "id": "d0cafb06-2aa7-4472-b4df-22f80c8f9c79",
   "metadata": {},
   "outputs": [],
   "source": [
    "import pandas as pd\n",
    "import random\n",
    "import matplotlib.pyplot as plt\n",
    "from sklearn.ensemble import RandomForestRegressor\n",
    "from sklearn.preprocessing import OneHotEncoder"
   ]
  },
  {
   "cell_type": "markdown",
   "id": "0a2802c7-4e1d-4735-9daf-abe667758a68",
   "metadata": {},
   "source": [
    "## Prepare Data"
   ]
  },
  {
   "cell_type": "code",
   "execution_count": 2,
   "id": "2d223806-ac4c-4b05-bb30-b3e377e8a501",
   "metadata": {},
   "outputs": [],
   "source": [
    "# get the raw diamond data (from R's ggplot2)\n",
    "dat_diamonds = pd.read_csv(\n",
    "    \"https://raw.githubusercontent.com/tidyverse/ggplot2/master/data-raw/diamonds.csv\"\n",
    ")\n",
    "X_raw = dat_diamonds.loc[:, ~dat_diamonds.columns.str.contains(\"price\")].copy()\n",
    "y = dat_diamonds[\"price\"].copy()"
   ]
  },
  {
   "cell_type": "code",
   "execution_count": 3,
   "id": "9f351d97-9f78-49a7-bf38-09f7f2609ef2",
   "metadata": {},
   "outputs": [],
   "source": [
    "X = X_raw.copy()\n",
    "# convert the three text columns to ordered categoricals\n",
    "X[\"cut\"] = X[\"cut\"].astype(\n",
    "    pd.api.types.CategoricalDtype(\n",
    "        categories=[\"Fair\", \"Good\", \"Very Good\", \"Premium\", \"Ideal\"], ordered=True\n",
    "    )\n",
    ")\n",
    "X[\"clarity\"] = X[\"clarity\"].astype(\n",
    "    pd.api.types.CategoricalDtype(\n",
    "        categories=[\"I1\", \"SI2\", \"SI1\", \"VS2\", \"VS1\", \"VVS2\", \"VVS1\", \"IF\"],\n",
    "        ordered=True,\n",
    "    )\n",
    ")"
   ]
  },
  {
   "cell_type": "code",
   "execution_count": 4,
   "id": "09728934-bd98-43ba-8708-7404eed93b2a",
   "metadata": {},
   "outputs": [],
   "source": [
    "# use the codes of each categorical as a numeric encoding for the feature\n",
    "X[\"cut_code\"] = X[\"cut\"].cat.codes\n",
    "X[\"clarity_code\"] = X[\"clarity\"].cat.codes"
   ]
  },
  {
   "cell_type": "code",
   "execution_count": 5,
   "id": "9f60aa80-72af-4d18-bad6-c0fbd5c1218b",
   "metadata": {},
   "outputs": [],
   "source": [
    "# fit a one-hot-encoder before the function\n",
    "# it is important to use a one-hot-encoder, that is fitted with all possible\n",
    "# categories in the feature.\n",
    "one_hot_encoder = OneHotEncoder().fit(X[[\"color\"]])\n",
    "\n",
    "def onehot_encode(feat, ohe=one_hot_encoder):\n",
    "    col_names = ohe.categories_[0]\n",
    "    feat_coded = pd.DataFrame(ohe.transform(feat).toarray())\n",
    "    feat_coded.columns = col_names\n",
    "    return feat_coded"
   ]
  },
  {
   "cell_type": "code",
   "execution_count": 6,
   "id": "34519338-119e-476f-b97f-da9de152215a",
   "metadata": {},
   "outputs": [],
   "source": [
    "coded_feature = onehot_encode(X[[\"color\"]])\n",
    "X = pd.concat([X, coded_feature], axis=1)"
   ]
  },
  {
   "cell_type": "code",
   "execution_count": 7,
   "id": "ea9a371b-30d6-49c5-a2b1-76cf33d26bbf",
   "metadata": {},
   "outputs": [
    {
     "data": {
      "text/html": [
       "<div>\n",
       "<style scoped>\n",
       "    .dataframe tbody tr th:only-of-type {\n",
       "        vertical-align: middle;\n",
       "    }\n",
       "\n",
       "    .dataframe tbody tr th {\n",
       "        vertical-align: top;\n",
       "    }\n",
       "\n",
       "    .dataframe thead th {\n",
       "        text-align: right;\n",
       "    }\n",
       "</style>\n",
       "<table border=\"1\" class=\"dataframe\">\n",
       "  <thead>\n",
       "    <tr style=\"text-align: right;\">\n",
       "      <th></th>\n",
       "      <th>carat</th>\n",
       "      <th>cut</th>\n",
       "      <th>color</th>\n",
       "      <th>clarity</th>\n",
       "      <th>depth</th>\n",
       "      <th>table</th>\n",
       "      <th>x</th>\n",
       "      <th>y</th>\n",
       "      <th>z</th>\n",
       "      <th>cut_code</th>\n",
       "      <th>clarity_code</th>\n",
       "      <th>D</th>\n",
       "      <th>E</th>\n",
       "      <th>F</th>\n",
       "      <th>G</th>\n",
       "      <th>H</th>\n",
       "      <th>I</th>\n",
       "      <th>J</th>\n",
       "    </tr>\n",
       "  </thead>\n",
       "  <tbody>\n",
       "    <tr>\n",
       "      <th>0</th>\n",
       "      <td>0.23</td>\n",
       "      <td>Ideal</td>\n",
       "      <td>E</td>\n",
       "      <td>SI2</td>\n",
       "      <td>61.5</td>\n",
       "      <td>55.0</td>\n",
       "      <td>3.95</td>\n",
       "      <td>3.98</td>\n",
       "      <td>2.43</td>\n",
       "      <td>4</td>\n",
       "      <td>1</td>\n",
       "      <td>0.0</td>\n",
       "      <td>1.0</td>\n",
       "      <td>0.0</td>\n",
       "      <td>0.0</td>\n",
       "      <td>0.0</td>\n",
       "      <td>0.0</td>\n",
       "      <td>0.0</td>\n",
       "    </tr>\n",
       "    <tr>\n",
       "      <th>1</th>\n",
       "      <td>0.21</td>\n",
       "      <td>Premium</td>\n",
       "      <td>E</td>\n",
       "      <td>SI1</td>\n",
       "      <td>59.8</td>\n",
       "      <td>61.0</td>\n",
       "      <td>3.89</td>\n",
       "      <td>3.84</td>\n",
       "      <td>2.31</td>\n",
       "      <td>3</td>\n",
       "      <td>2</td>\n",
       "      <td>0.0</td>\n",
       "      <td>1.0</td>\n",
       "      <td>0.0</td>\n",
       "      <td>0.0</td>\n",
       "      <td>0.0</td>\n",
       "      <td>0.0</td>\n",
       "      <td>0.0</td>\n",
       "    </tr>\n",
       "    <tr>\n",
       "      <th>2</th>\n",
       "      <td>0.23</td>\n",
       "      <td>Good</td>\n",
       "      <td>E</td>\n",
       "      <td>VS1</td>\n",
       "      <td>56.9</td>\n",
       "      <td>65.0</td>\n",
       "      <td>4.05</td>\n",
       "      <td>4.07</td>\n",
       "      <td>2.31</td>\n",
       "      <td>1</td>\n",
       "      <td>4</td>\n",
       "      <td>0.0</td>\n",
       "      <td>1.0</td>\n",
       "      <td>0.0</td>\n",
       "      <td>0.0</td>\n",
       "      <td>0.0</td>\n",
       "      <td>0.0</td>\n",
       "      <td>0.0</td>\n",
       "    </tr>\n",
       "    <tr>\n",
       "      <th>3</th>\n",
       "      <td>0.29</td>\n",
       "      <td>Premium</td>\n",
       "      <td>I</td>\n",
       "      <td>VS2</td>\n",
       "      <td>62.4</td>\n",
       "      <td>58.0</td>\n",
       "      <td>4.20</td>\n",
       "      <td>4.23</td>\n",
       "      <td>2.63</td>\n",
       "      <td>3</td>\n",
       "      <td>3</td>\n",
       "      <td>0.0</td>\n",
       "      <td>0.0</td>\n",
       "      <td>0.0</td>\n",
       "      <td>0.0</td>\n",
       "      <td>0.0</td>\n",
       "      <td>1.0</td>\n",
       "      <td>0.0</td>\n",
       "    </tr>\n",
       "    <tr>\n",
       "      <th>4</th>\n",
       "      <td>0.31</td>\n",
       "      <td>Good</td>\n",
       "      <td>J</td>\n",
       "      <td>SI2</td>\n",
       "      <td>63.3</td>\n",
       "      <td>58.0</td>\n",
       "      <td>4.34</td>\n",
       "      <td>4.35</td>\n",
       "      <td>2.75</td>\n",
       "      <td>1</td>\n",
       "      <td>1</td>\n",
       "      <td>0.0</td>\n",
       "      <td>0.0</td>\n",
       "      <td>0.0</td>\n",
       "      <td>0.0</td>\n",
       "      <td>0.0</td>\n",
       "      <td>0.0</td>\n",
       "      <td>1.0</td>\n",
       "    </tr>\n",
       "  </tbody>\n",
       "</table>\n",
       "</div>"
      ],
      "text/plain": [
       "   carat      cut color clarity  depth  table     x     y     z  cut_code  \\\n",
       "0   0.23    Ideal     E     SI2   61.5   55.0  3.95  3.98  2.43         4   \n",
       "1   0.21  Premium     E     SI1   59.8   61.0  3.89  3.84  2.31         3   \n",
       "2   0.23     Good     E     VS1   56.9   65.0  4.05  4.07  2.31         1   \n",
       "3   0.29  Premium     I     VS2   62.4   58.0  4.20  4.23  2.63         3   \n",
       "4   0.31     Good     J     SI2   63.3   58.0  4.34  4.35  2.75         1   \n",
       "\n",
       "   clarity_code    D    E    F    G    H    I    J  \n",
       "0             1  0.0  1.0  0.0  0.0  0.0  0.0  0.0  \n",
       "1             2  0.0  1.0  0.0  0.0  0.0  0.0  0.0  \n",
       "2             4  0.0  1.0  0.0  0.0  0.0  0.0  0.0  \n",
       "3             3  0.0  0.0  0.0  0.0  0.0  1.0  0.0  \n",
       "4             1  0.0  0.0  0.0  0.0  0.0  0.0  1.0  "
      ]
     },
     "execution_count": 7,
     "metadata": {},
     "output_type": "execute_result"
    }
   ],
   "source": [
    "X.head()"
   ]
  },
  {
   "cell_type": "code",
   "execution_count": 8,
   "id": "f08aac21-d74b-415d-ad04-34fb413114ea",
   "metadata": {},
   "outputs": [],
   "source": [
    "features = [\"carat\", \"cut_code\", \"clarity_code\", \"depth\", \"table\", \"x\", \"y\", \"z\"]\n",
    "features = features + coded_feature.columns.to_list()"
   ]
  },
  {
   "cell_type": "code",
   "execution_count": 9,
   "id": "4fe472c2-05ea-4b4f-89ad-6a9e8188ba26",
   "metadata": {},
   "outputs": [
    {
     "data": {
      "text/html": [
       "<div>\n",
       "<style scoped>\n",
       "    .dataframe tbody tr th:only-of-type {\n",
       "        vertical-align: middle;\n",
       "    }\n",
       "\n",
       "    .dataframe tbody tr th {\n",
       "        vertical-align: top;\n",
       "    }\n",
       "\n",
       "    .dataframe thead th {\n",
       "        text-align: right;\n",
       "    }\n",
       "</style>\n",
       "<table border=\"1\" class=\"dataframe\">\n",
       "  <thead>\n",
       "    <tr style=\"text-align: right;\">\n",
       "      <th></th>\n",
       "      <th>carat</th>\n",
       "      <th>cut_code</th>\n",
       "      <th>clarity_code</th>\n",
       "      <th>depth</th>\n",
       "      <th>table</th>\n",
       "      <th>x</th>\n",
       "      <th>y</th>\n",
       "      <th>z</th>\n",
       "      <th>D</th>\n",
       "      <th>E</th>\n",
       "      <th>F</th>\n",
       "      <th>G</th>\n",
       "      <th>H</th>\n",
       "      <th>I</th>\n",
       "      <th>J</th>\n",
       "    </tr>\n",
       "  </thead>\n",
       "  <tbody>\n",
       "    <tr>\n",
       "      <th>0</th>\n",
       "      <td>0.23</td>\n",
       "      <td>4</td>\n",
       "      <td>1</td>\n",
       "      <td>61.5</td>\n",
       "      <td>55.0</td>\n",
       "      <td>3.95</td>\n",
       "      <td>3.98</td>\n",
       "      <td>2.43</td>\n",
       "      <td>0.0</td>\n",
       "      <td>1.0</td>\n",
       "      <td>0.0</td>\n",
       "      <td>0.0</td>\n",
       "      <td>0.0</td>\n",
       "      <td>0.0</td>\n",
       "      <td>0.0</td>\n",
       "    </tr>\n",
       "    <tr>\n",
       "      <th>1</th>\n",
       "      <td>0.21</td>\n",
       "      <td>3</td>\n",
       "      <td>2</td>\n",
       "      <td>59.8</td>\n",
       "      <td>61.0</td>\n",
       "      <td>3.89</td>\n",
       "      <td>3.84</td>\n",
       "      <td>2.31</td>\n",
       "      <td>0.0</td>\n",
       "      <td>1.0</td>\n",
       "      <td>0.0</td>\n",
       "      <td>0.0</td>\n",
       "      <td>0.0</td>\n",
       "      <td>0.0</td>\n",
       "      <td>0.0</td>\n",
       "    </tr>\n",
       "    <tr>\n",
       "      <th>2</th>\n",
       "      <td>0.23</td>\n",
       "      <td>1</td>\n",
       "      <td>4</td>\n",
       "      <td>56.9</td>\n",
       "      <td>65.0</td>\n",
       "      <td>4.05</td>\n",
       "      <td>4.07</td>\n",
       "      <td>2.31</td>\n",
       "      <td>0.0</td>\n",
       "      <td>1.0</td>\n",
       "      <td>0.0</td>\n",
       "      <td>0.0</td>\n",
       "      <td>0.0</td>\n",
       "      <td>0.0</td>\n",
       "      <td>0.0</td>\n",
       "    </tr>\n",
       "    <tr>\n",
       "      <th>3</th>\n",
       "      <td>0.29</td>\n",
       "      <td>3</td>\n",
       "      <td>3</td>\n",
       "      <td>62.4</td>\n",
       "      <td>58.0</td>\n",
       "      <td>4.20</td>\n",
       "      <td>4.23</td>\n",
       "      <td>2.63</td>\n",
       "      <td>0.0</td>\n",
       "      <td>0.0</td>\n",
       "      <td>0.0</td>\n",
       "      <td>0.0</td>\n",
       "      <td>0.0</td>\n",
       "      <td>1.0</td>\n",
       "      <td>0.0</td>\n",
       "    </tr>\n",
       "    <tr>\n",
       "      <th>4</th>\n",
       "      <td>0.31</td>\n",
       "      <td>1</td>\n",
       "      <td>1</td>\n",
       "      <td>63.3</td>\n",
       "      <td>58.0</td>\n",
       "      <td>4.34</td>\n",
       "      <td>4.35</td>\n",
       "      <td>2.75</td>\n",
       "      <td>0.0</td>\n",
       "      <td>0.0</td>\n",
       "      <td>0.0</td>\n",
       "      <td>0.0</td>\n",
       "      <td>0.0</td>\n",
       "      <td>0.0</td>\n",
       "      <td>1.0</td>\n",
       "    </tr>\n",
       "  </tbody>\n",
       "</table>\n",
       "</div>"
      ],
      "text/plain": [
       "   carat  cut_code  clarity_code  depth  table     x     y     z    D    E  \\\n",
       "0   0.23         4             1   61.5   55.0  3.95  3.98  2.43  0.0  1.0   \n",
       "1   0.21         3             2   59.8   61.0  3.89  3.84  2.31  0.0  1.0   \n",
       "2   0.23         1             4   56.9   65.0  4.05  4.07  2.31  0.0  1.0   \n",
       "3   0.29         3             3   62.4   58.0  4.20  4.23  2.63  0.0  0.0   \n",
       "4   0.31         1             1   63.3   58.0  4.34  4.35  2.75  0.0  0.0   \n",
       "\n",
       "     F    G    H    I    J  \n",
       "0  0.0  0.0  0.0  0.0  0.0  \n",
       "1  0.0  0.0  0.0  0.0  0.0  \n",
       "2  0.0  0.0  0.0  0.0  0.0  \n",
       "3  0.0  0.0  0.0  1.0  0.0  \n",
       "4  0.0  0.0  0.0  0.0  1.0  "
      ]
     },
     "execution_count": 9,
     "metadata": {},
     "output_type": "execute_result"
    }
   ],
   "source": [
    "X[features].head()"
   ]
  },
  {
   "cell_type": "markdown",
   "id": "95e08d61-d607-4fdc-97d6-b2e2f1b9d93f",
   "metadata": {},
   "source": [
    "## Fit the model"
   ]
  },
  {
   "cell_type": "code",
   "execution_count": 10,
   "id": "2a3be3b4-0e98-4291-a52a-21dda1486c14",
   "metadata": {},
   "outputs": [
    {
     "data": {
      "text/html": [
       "<style>#sk-container-id-1 {color: black;}#sk-container-id-1 pre{padding: 0;}#sk-container-id-1 div.sk-toggleable {background-color: white;}#sk-container-id-1 label.sk-toggleable__label {cursor: pointer;display: block;width: 100%;margin-bottom: 0;padding: 0.3em;box-sizing: border-box;text-align: center;}#sk-container-id-1 label.sk-toggleable__label-arrow:before {content: \"▸\";float: left;margin-right: 0.25em;color: #696969;}#sk-container-id-1 label.sk-toggleable__label-arrow:hover:before {color: black;}#sk-container-id-1 div.sk-estimator:hover label.sk-toggleable__label-arrow:before {color: black;}#sk-container-id-1 div.sk-toggleable__content {max-height: 0;max-width: 0;overflow: hidden;text-align: left;background-color: #f0f8ff;}#sk-container-id-1 div.sk-toggleable__content pre {margin: 0.2em;color: black;border-radius: 0.25em;background-color: #f0f8ff;}#sk-container-id-1 input.sk-toggleable__control:checked~div.sk-toggleable__content {max-height: 200px;max-width: 100%;overflow: auto;}#sk-container-id-1 input.sk-toggleable__control:checked~label.sk-toggleable__label-arrow:before {content: \"▾\";}#sk-container-id-1 div.sk-estimator input.sk-toggleable__control:checked~label.sk-toggleable__label {background-color: #d4ebff;}#sk-container-id-1 div.sk-label input.sk-toggleable__control:checked~label.sk-toggleable__label {background-color: #d4ebff;}#sk-container-id-1 input.sk-hidden--visually {border: 0;clip: rect(1px 1px 1px 1px);clip: rect(1px, 1px, 1px, 1px);height: 1px;margin: -1px;overflow: hidden;padding: 0;position: absolute;width: 1px;}#sk-container-id-1 div.sk-estimator {font-family: monospace;background-color: #f0f8ff;border: 1px dotted black;border-radius: 0.25em;box-sizing: border-box;margin-bottom: 0.5em;}#sk-container-id-1 div.sk-estimator:hover {background-color: #d4ebff;}#sk-container-id-1 div.sk-parallel-item::after {content: \"\";width: 100%;border-bottom: 1px solid gray;flex-grow: 1;}#sk-container-id-1 div.sk-label:hover label.sk-toggleable__label {background-color: #d4ebff;}#sk-container-id-1 div.sk-serial::before {content: \"\";position: absolute;border-left: 1px solid gray;box-sizing: border-box;top: 0;bottom: 0;left: 50%;z-index: 0;}#sk-container-id-1 div.sk-serial {display: flex;flex-direction: column;align-items: center;background-color: white;padding-right: 0.2em;padding-left: 0.2em;position: relative;}#sk-container-id-1 div.sk-item {position: relative;z-index: 1;}#sk-container-id-1 div.sk-parallel {display: flex;align-items: stretch;justify-content: center;background-color: white;position: relative;}#sk-container-id-1 div.sk-item::before, #sk-container-id-1 div.sk-parallel-item::before {content: \"\";position: absolute;border-left: 1px solid gray;box-sizing: border-box;top: 0;bottom: 0;left: 50%;z-index: -1;}#sk-container-id-1 div.sk-parallel-item {display: flex;flex-direction: column;z-index: 1;position: relative;background-color: white;}#sk-container-id-1 div.sk-parallel-item:first-child::after {align-self: flex-end;width: 50%;}#sk-container-id-1 div.sk-parallel-item:last-child::after {align-self: flex-start;width: 50%;}#sk-container-id-1 div.sk-parallel-item:only-child::after {width: 0;}#sk-container-id-1 div.sk-dashed-wrapped {border: 1px dashed gray;margin: 0 0.4em 0.5em 0.4em;box-sizing: border-box;padding-bottom: 0.4em;background-color: white;}#sk-container-id-1 div.sk-label label {font-family: monospace;font-weight: bold;display: inline-block;line-height: 1.2em;}#sk-container-id-1 div.sk-label-container {text-align: center;}#sk-container-id-1 div.sk-container {/* jupyter's `normalize.less` sets `[hidden] { display: none; }` but bootstrap.min.css set `[hidden] { display: none !important; }` so we also need the `!important` here to be able to override the default hidden behavior on the sphinx rendered scikit-learn.org. See: https://github.com/scikit-learn/scikit-learn/issues/21755 */display: inline-block !important;position: relative;}#sk-container-id-1 div.sk-text-repr-fallback {display: none;}</style><div id=\"sk-container-id-1\" class=\"sk-top-container\"><div class=\"sk-text-repr-fallback\"><pre>RandomForestRegressor(random_state=1345)</pre><b>In a Jupyter environment, please rerun this cell to show the HTML representation or trust the notebook. <br />On GitHub, the HTML representation is unable to render, please try loading this page with nbviewer.org.</b></div><div class=\"sk-container\" hidden><div class=\"sk-item\"><div class=\"sk-estimator sk-toggleable\"><input class=\"sk-toggleable__control sk-hidden--visually\" id=\"sk-estimator-id-1\" type=\"checkbox\" checked><label for=\"sk-estimator-id-1\" class=\"sk-toggleable__label sk-toggleable__label-arrow\">RandomForestRegressor</label><div class=\"sk-toggleable__content\"><pre>RandomForestRegressor(random_state=1345)</pre></div></div></div></div></div>"
      ],
      "text/plain": [
       "RandomForestRegressor(random_state=1345)"
      ]
     },
     "execution_count": 10,
     "metadata": {},
     "output_type": "execute_result"
    }
   ],
   "source": [
    "model = RandomForestRegressor(random_state=1345)\n",
    "model.fit(X[features], y)"
   ]
  },
  {
   "cell_type": "code",
   "execution_count": 13,
   "id": "2de8abcd-f092-4cbe-ae48-1b0b3a176dca",
   "metadata": {},
   "outputs": [],
   "source": [
    "from PyALE import ale"
   ]
  },
  {
   "cell_type": "markdown",
   "id": "20f0e98e-3cbb-4446-a78d-8942937f0d8b",
   "metadata": {},
   "source": [
    "### continuous feature"
   ]
  },
  {
   "cell_type": "code",
   "execution_count": 14,
   "id": "9542c11c-6dac-4cd4-bd21-cb7984e68580",
   "metadata": {},
   "outputs": [
    {
     "name": "stderr",
     "output_type": "stream",
     "text": [
      "PyALE._ALE_generic:INFO: Continuous feature detected.\n"
     ]
    },
    {
     "data": {
      "image/png": "[encoded data removed]",
      "text/plain": [
       "<Figure size 800x400 with 1 Axes>"
      ]
     },
     "metadata": {},
     "output_type": "display_data"
    }
   ],
   "source": [
    "## 1D - continuous - no CI\n",
    "ale_eff = ale(\n",
    "    X=X[features], model=model, feature=[\"carat\"], grid_size=50, include_CI=False\n",
    ")"
   ]
  },
  {
   "cell_type": "markdown",
   "id": "5acc26c4-63ef-4c25-85a1-481b5a46bab3",
   "metadata": {},
   "source": [
    "### continuous feature with confidence interval"
   ]
  },
  {
   "cell_type": "code",
   "execution_count": 15,
   "id": "ce083e43-879f-4665-84c2-35a2b06f97b5",
   "metadata": {},
   "outputs": [
    {
     "name": "stderr",
     "output_type": "stream",
     "text": [
      "PyALE._ALE_generic:INFO: Continuous feature detected.\n"
     ]
    },
    {
     "data": {
      "image/png": "[encoded data removed]",
      "text/plain": [
       "<Figure size 800x400 with 1 Axes>"
      ]
     },
     "metadata": {},
     "output_type": "display_data"
    }
   ],
   "source": [
    "## 1D - continuous - with 95% CI\n",
    "random.seed(123)\n",
    "X_sample = X[features].loc[random.sample(X.index.to_list(), 1000), :]\n",
    "ale_eff = ale(\n",
    "    X=X_sample, model=model, feature=[\"carat\"], grid_size=50, include_CI=True, C=0.95\n",
    ")"
   ]
  }
 ],
 "metadata": {
  "kernelspec": {
   "display_name": "Python 3 (ipykernel)",
   "language": "python",
   "name": "python3"
  },
  "language_info": {
   "codemirror_mode": {
    "name": "ipython",
    "version": 3
   },
   "file_extension": ".py",
   "mimetype": "text/x-python",
   "name": "python",
   "nbconvert_exporter": "python",
   "pygments_lexer": "ipython3",
   "version": "3.11.8"
  }
 },
 "nbformat": 4,
 "nbformat_minor": 5
}
